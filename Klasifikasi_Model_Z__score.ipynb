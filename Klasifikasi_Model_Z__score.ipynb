{
  "nbformat": 4,
  "nbformat_minor": 0,
  "metadata": {
    "colab": {
      "name": "Klasifikasi Model Z__score",
      "provenance": [],
      "collapsed_sections": []
    },
    "kernelspec": {
      "name": "python3",
      "display_name": "Python 3"
    },
    "language_info": {
      "name": "python"
    }
  },
  "cells": [
    {
      "cell_type": "code",
      "metadata": {
        "id": "xv1SRehOHnEu"
      },
      "source": [
        "#library\n",
        "import pandas as pd\n",
        "import numpy as np\n",
        "import matplotlib.pyplot as plt\n",
        "import seaborn as sns\n",
        "from sklearn.preprocessing import MinMaxScaler\n",
        "from sklearn import preprocessing\n",
        "from sklearn import metrics"
      ],
      "execution_count": 1,
      "outputs": []
    },
    {
      "cell_type": "markdown",
      "metadata": {
        "id": "X6DoM9mWAc1u"
      },
      "source": [
        ""
      ]
    },
    {
      "cell_type": "markdown",
      "metadata": {
        "id": "bZGr6MxcWfNw"
      },
      "source": [
        "# **Data Training**"
      ]
    },
    {
      "cell_type": "markdown",
      "metadata": {
        "id": "vAm33nfDOkPk"
      },
      "source": [
        "# **Preprocessing**"
      ]
    },
    {
      "cell_type": "code",
      "metadata": {
        "id": "3ijUDDmKAhHs"
      },
      "source": [
        "#input dataframe training\n",
        "df = pd.read_csv('salju_train (1).csv')"
      ],
      "execution_count": 2,
      "outputs": []
    },
    {
      "cell_type": "code",
      "metadata": {
        "colab": {
          "base_uri": "https://localhost:8080/",
          "height": 408
        },
        "id": "OTCaebw9HzgC",
        "outputId": "a8ae1571-1640-401b-9f7e-0edc29ab1a96"
      },
      "source": [
        "# Mengkonfigurasi, hanya ditampilkan beberapa dataset saja \n",
        "pd.set_option('display.max_rows', 20)\n",
        "df"
      ],
      "execution_count": 3,
      "outputs": [
        {
          "output_type": "execute_result",
          "data": {
            "text/html": [
              "<div>\n",
              "<style scoped>\n",
              "    .dataframe tbody tr th:only-of-type {\n",
              "        vertical-align: middle;\n",
              "    }\n",
              "\n",
              "    .dataframe tbody tr th {\n",
              "        vertical-align: top;\n",
              "    }\n",
              "\n",
              "    .dataframe thead th {\n",
              "        text-align: right;\n",
              "    }\n",
              "</style>\n",
              "<table border=\"1\" class=\"dataframe\">\n",
              "  <thead>\n",
              "    <tr style=\"text-align: right;\">\n",
              "      <th></th>\n",
              "      <th>id</th>\n",
              "      <th>Tanggal</th>\n",
              "      <th>KodeLokasi</th>\n",
              "      <th>SuhuMin</th>\n",
              "      <th>SuhuMax</th>\n",
              "      <th>Hujan</th>\n",
              "      <th>Penguapan</th>\n",
              "      <th>SinarMatahari</th>\n",
              "      <th>ArahAnginTerkencang</th>\n",
              "      <th>KecepatanAnginTerkencang</th>\n",
              "      <th>ArahAngin9am</th>\n",
              "      <th>ArahAngin3pm</th>\n",
              "      <th>KecepatanAngin9am</th>\n",
              "      <th>KecepatanAngin3pm</th>\n",
              "      <th>Kelembaban9am</th>\n",
              "      <th>Kelembaban3pm</th>\n",
              "      <th>Tekanan9am</th>\n",
              "      <th>Tekanan3pm</th>\n",
              "      <th>Awan9am</th>\n",
              "      <th>Awan3pm</th>\n",
              "      <th>Suhu9am</th>\n",
              "      <th>Suhu3pm</th>\n",
              "      <th>BersaljuHariIni</th>\n",
              "      <th>BersaljuBesok</th>\n",
              "    </tr>\n",
              "  </thead>\n",
              "  <tbody>\n",
              "    <tr>\n",
              "      <th>0</th>\n",
              "      <td>1</td>\n",
              "      <td>01/06/2014</td>\n",
              "      <td>C4</td>\n",
              "      <td>10.4</td>\n",
              "      <td>15.5</td>\n",
              "      <td>4.8</td>\n",
              "      <td>NaN</td>\n",
              "      <td>NaN</td>\n",
              "      <td>WSW</td>\n",
              "      <td>24.0</td>\n",
              "      <td>NaN</td>\n",
              "      <td>WSW</td>\n",
              "      <td>0.0</td>\n",
              "      <td>13.0</td>\n",
              "      <td>78.0</td>\n",
              "      <td>76.0</td>\n",
              "      <td>1020.1</td>\n",
              "      <td>1018.5</td>\n",
              "      <td>NaN</td>\n",
              "      <td>NaN</td>\n",
              "      <td>13.1</td>\n",
              "      <td>15.0</td>\n",
              "      <td>Ya</td>\n",
              "      <td>Tidak</td>\n",
              "    </tr>\n",
              "    <tr>\n",
              "      <th>1</th>\n",
              "      <td>2</td>\n",
              "      <td>15/07/2014</td>\n",
              "      <td>C10</td>\n",
              "      <td>9.0</td>\n",
              "      <td>17.0</td>\n",
              "      <td>8.0</td>\n",
              "      <td>2.6</td>\n",
              "      <td>7.4</td>\n",
              "      <td>NaN</td>\n",
              "      <td>NaN</td>\n",
              "      <td>SW</td>\n",
              "      <td>WNW</td>\n",
              "      <td>13.0</td>\n",
              "      <td>20.0</td>\n",
              "      <td>80.0</td>\n",
              "      <td>61.0</td>\n",
              "      <td>1015.2</td>\n",
              "      <td>1014.6</td>\n",
              "      <td>7.0</td>\n",
              "      <td>5.0</td>\n",
              "      <td>11.9</td>\n",
              "      <td>15.5</td>\n",
              "      <td>Ya</td>\n",
              "      <td>Ya</td>\n",
              "    </tr>\n",
              "    <tr>\n",
              "      <th>2</th>\n",
              "      <td>3</td>\n",
              "      <td>16/02/2011</td>\n",
              "      <td>C46</td>\n",
              "      <td>18.2</td>\n",
              "      <td>32.0</td>\n",
              "      <td>0.0</td>\n",
              "      <td>NaN</td>\n",
              "      <td>NaN</td>\n",
              "      <td>ESE</td>\n",
              "      <td>44.0</td>\n",
              "      <td>SE</td>\n",
              "      <td>SE</td>\n",
              "      <td>15.0</td>\n",
              "      <td>26.0</td>\n",
              "      <td>62.0</td>\n",
              "      <td>42.0</td>\n",
              "      <td>NaN</td>\n",
              "      <td>NaN</td>\n",
              "      <td>NaN</td>\n",
              "      <td>NaN</td>\n",
              "      <td>23.8</td>\n",
              "      <td>29.6</td>\n",
              "      <td>Tidak</td>\n",
              "      <td>Tidak</td>\n",
              "    </tr>\n",
              "    <tr>\n",
              "      <th>3</th>\n",
              "      <td>4</td>\n",
              "      <td>08/08/2012</td>\n",
              "      <td>C36</td>\n",
              "      <td>7.3</td>\n",
              "      <td>24.5</td>\n",
              "      <td>0.0</td>\n",
              "      <td>8.4</td>\n",
              "      <td>10.4</td>\n",
              "      <td>SSW</td>\n",
              "      <td>54.0</td>\n",
              "      <td>N</td>\n",
              "      <td>SW</td>\n",
              "      <td>13.0</td>\n",
              "      <td>19.0</td>\n",
              "      <td>25.0</td>\n",
              "      <td>17.0</td>\n",
              "      <td>1019.2</td>\n",
              "      <td>1016.9</td>\n",
              "      <td>1.0</td>\n",
              "      <td>7.0</td>\n",
              "      <td>15.3</td>\n",
              "      <td>23.2</td>\n",
              "      <td>Tidak</td>\n",
              "      <td>Tidak</td>\n",
              "    </tr>\n",
              "    <tr>\n",
              "      <th>4</th>\n",
              "      <td>5</td>\n",
              "      <td>29/10/2016</td>\n",
              "      <td>C7</td>\n",
              "      <td>5.9</td>\n",
              "      <td>20.3</td>\n",
              "      <td>0.0</td>\n",
              "      <td>3.6</td>\n",
              "      <td>12.6</td>\n",
              "      <td>N</td>\n",
              "      <td>37.0</td>\n",
              "      <td>NNW</td>\n",
              "      <td>ESE</td>\n",
              "      <td>22.0</td>\n",
              "      <td>19.0</td>\n",
              "      <td>55.0</td>\n",
              "      <td>48.0</td>\n",
              "      <td>1019.7</td>\n",
              "      <td>1014.7</td>\n",
              "      <td>2.0</td>\n",
              "      <td>6.0</td>\n",
              "      <td>12.4</td>\n",
              "      <td>18.1</td>\n",
              "      <td>Tidak</td>\n",
              "      <td>Tidak</td>\n",
              "    </tr>\n",
              "    <tr>\n",
              "      <th>...</th>\n",
              "      <td>...</td>\n",
              "      <td>...</td>\n",
              "      <td>...</td>\n",
              "      <td>...</td>\n",
              "      <td>...</td>\n",
              "      <td>...</td>\n",
              "      <td>...</td>\n",
              "      <td>...</td>\n",
              "      <td>...</td>\n",
              "      <td>...</td>\n",
              "      <td>...</td>\n",
              "      <td>...</td>\n",
              "      <td>...</td>\n",
              "      <td>...</td>\n",
              "      <td>...</td>\n",
              "      <td>...</td>\n",
              "      <td>...</td>\n",
              "      <td>...</td>\n",
              "      <td>...</td>\n",
              "      <td>...</td>\n",
              "      <td>...</td>\n",
              "      <td>...</td>\n",
              "      <td>...</td>\n",
              "      <td>...</td>\n",
              "    </tr>\n",
              "    <tr>\n",
              "      <th>109090</th>\n",
              "      <td>109091</td>\n",
              "      <td>31/01/2009</td>\n",
              "      <td>C38</td>\n",
              "      <td>20.1</td>\n",
              "      <td>23.7</td>\n",
              "      <td>0.0</td>\n",
              "      <td>7.2</td>\n",
              "      <td>8.9</td>\n",
              "      <td>ESE</td>\n",
              "      <td>43.0</td>\n",
              "      <td>SE</td>\n",
              "      <td>ESE</td>\n",
              "      <td>24.0</td>\n",
              "      <td>26.0</td>\n",
              "      <td>74.0</td>\n",
              "      <td>70.0</td>\n",
              "      <td>1019.3</td>\n",
              "      <td>1017.6</td>\n",
              "      <td>4.0</td>\n",
              "      <td>6.0</td>\n",
              "      <td>22.0</td>\n",
              "      <td>22.1</td>\n",
              "      <td>Tidak</td>\n",
              "      <td>Ya</td>\n",
              "    </tr>\n",
              "    <tr>\n",
              "      <th>109091</th>\n",
              "      <td>109092</td>\n",
              "      <td>03/11/2010</td>\n",
              "      <td>C16</td>\n",
              "      <td>15.7</td>\n",
              "      <td>25.2</td>\n",
              "      <td>0.0</td>\n",
              "      <td>NaN</td>\n",
              "      <td>NaN</td>\n",
              "      <td>SSE</td>\n",
              "      <td>37.0</td>\n",
              "      <td>SSE</td>\n",
              "      <td>E</td>\n",
              "      <td>28.0</td>\n",
              "      <td>19.0</td>\n",
              "      <td>52.0</td>\n",
              "      <td>52.0</td>\n",
              "      <td>1018.4</td>\n",
              "      <td>1016.2</td>\n",
              "      <td>NaN</td>\n",
              "      <td>NaN</td>\n",
              "      <td>23.8</td>\n",
              "      <td>24.4</td>\n",
              "      <td>Tidak</td>\n",
              "      <td>Ya</td>\n",
              "    </tr>\n",
              "    <tr>\n",
              "      <th>109092</th>\n",
              "      <td>109093</td>\n",
              "      <td>11/11/2010</td>\n",
              "      <td>C17</td>\n",
              "      <td>7.5</td>\n",
              "      <td>20.4</td>\n",
              "      <td>1.6</td>\n",
              "      <td>NaN</td>\n",
              "      <td>NaN</td>\n",
              "      <td>NW</td>\n",
              "      <td>33.0</td>\n",
              "      <td>N</td>\n",
              "      <td>NW</td>\n",
              "      <td>4.0</td>\n",
              "      <td>13.0</td>\n",
              "      <td>92.0</td>\n",
              "      <td>51.0</td>\n",
              "      <td>1014.5</td>\n",
              "      <td>1010.6</td>\n",
              "      <td>NaN</td>\n",
              "      <td>NaN</td>\n",
              "      <td>12.6</td>\n",
              "      <td>19.8</td>\n",
              "      <td>Ya</td>\n",
              "      <td>Tidak</td>\n",
              "    </tr>\n",
              "    <tr>\n",
              "      <th>109093</th>\n",
              "      <td>109094</td>\n",
              "      <td>16/04/2012</td>\n",
              "      <td>C11</td>\n",
              "      <td>10.8</td>\n",
              "      <td>29.8</td>\n",
              "      <td>0.0</td>\n",
              "      <td>7.8</td>\n",
              "      <td>11.2</td>\n",
              "      <td>E</td>\n",
              "      <td>48.0</td>\n",
              "      <td>ESE</td>\n",
              "      <td>SE</td>\n",
              "      <td>13.0</td>\n",
              "      <td>26.0</td>\n",
              "      <td>35.0</td>\n",
              "      <td>18.0</td>\n",
              "      <td>1020.0</td>\n",
              "      <td>1015.8</td>\n",
              "      <td>0.0</td>\n",
              "      <td>1.0</td>\n",
              "      <td>21.7</td>\n",
              "      <td>29.2</td>\n",
              "      <td>Tidak</td>\n",
              "      <td>Tidak</td>\n",
              "    </tr>\n",
              "    <tr>\n",
              "      <th>109094</th>\n",
              "      <td>109095</td>\n",
              "      <td>09/10/2011</td>\n",
              "      <td>C16</td>\n",
              "      <td>12.3</td>\n",
              "      <td>27.4</td>\n",
              "      <td>9.0</td>\n",
              "      <td>NaN</td>\n",
              "      <td>NaN</td>\n",
              "      <td>WNW</td>\n",
              "      <td>35.0</td>\n",
              "      <td>NNE</td>\n",
              "      <td>NE</td>\n",
              "      <td>11.0</td>\n",
              "      <td>15.0</td>\n",
              "      <td>71.0</td>\n",
              "      <td>76.0</td>\n",
              "      <td>1010.4</td>\n",
              "      <td>1005.4</td>\n",
              "      <td>NaN</td>\n",
              "      <td>NaN</td>\n",
              "      <td>20.4</td>\n",
              "      <td>23.3</td>\n",
              "      <td>Ya</td>\n",
              "      <td>Tidak</td>\n",
              "    </tr>\n",
              "  </tbody>\n",
              "</table>\n",
              "<p>109095 rows × 24 columns</p>\n",
              "</div>"
            ],
            "text/plain": [
              "            id     Tanggal KodeLokasi  ...  Suhu3pm  BersaljuHariIni  BersaljuBesok\n",
              "0            1  01/06/2014         C4  ...     15.0               Ya          Tidak\n",
              "1            2  15/07/2014        C10  ...     15.5               Ya             Ya\n",
              "2            3  16/02/2011        C46  ...     29.6            Tidak          Tidak\n",
              "3            4  08/08/2012        C36  ...     23.2            Tidak          Tidak\n",
              "4            5  29/10/2016         C7  ...     18.1            Tidak          Tidak\n",
              "...        ...         ...        ...  ...      ...              ...            ...\n",
              "109090  109091  31/01/2009        C38  ...     22.1            Tidak             Ya\n",
              "109091  109092  03/11/2010        C16  ...     24.4            Tidak             Ya\n",
              "109092  109093  11/11/2010        C17  ...     19.8               Ya          Tidak\n",
              "109093  109094  16/04/2012        C11  ...     29.2            Tidak          Tidak\n",
              "109094  109095  09/10/2011        C16  ...     23.3               Ya          Tidak\n",
              "\n",
              "[109095 rows x 24 columns]"
            ]
          },
          "metadata": {
            "tags": []
          },
          "execution_count": 3
        }
      ]
    },
    {
      "cell_type": "code",
      "metadata": {
        "colab": {
          "base_uri": "https://localhost:8080/",
          "height": 724
        },
        "id": "jin8GJnzH6sG",
        "outputId": "7d6a8feb-5c01-4cdb-cb6e-7a0b67bba0a8"
      },
      "source": [
        "# Menampilkan korelasi antar atribut\n",
        "\n",
        "\n",
        "plt.figure(figsize=(15,10))\n",
        "cor = df.corr()\n",
        "sns.heatmap(cor, annot=True, cmap=plt.cm.Blues)\n",
        "plt.show()"
      ],
      "execution_count": 4,
      "outputs": [
        {
          "output_type": "display_data",
          "data": {
            "image/png": "[encoded data removed]",
            "text/plain": [
              "<Figure size 1080x720 with 2 Axes>"
            ]
          },
          "metadata": {
            "tags": [],
            "needs_background": "light"
          }
        }
      ]
    },
    {
      "cell_type": "code",
      "metadata": {
        "colab": {
          "base_uri": "https://localhost:8080/",
          "height": 388
        },
        "id": "LCPPJUj2H0yI",
        "outputId": "72727954-6517-40f4-94fc-b8d54b9e4abc"
      },
      "source": [
        "# Melakukan copy dataframe, hanya untuk beberapa atribut yang akan digunakan\n",
        "\n",
        "prepared_data = df.loc[:,['SinarMatahari','SuhuMin','SuhuMax','BersaljuBesok']]\n",
        "pd.set_option('display.max_rows', 20)\n",
        "prepared_data"
      ],
      "execution_count": 5,
      "outputs": [
        {
          "output_type": "execute_result",
          "data": {
            "text/html": [
              "<div>\n",
              "<style scoped>\n",
              "    .dataframe tbody tr th:only-of-type {\n",
              "        vertical-align: middle;\n",
              "    }\n",
              "\n",
              "    .dataframe tbody tr th {\n",
              "        vertical-align: top;\n",
              "    }\n",
              "\n",
              "    .dataframe thead th {\n",
              "        text-align: right;\n",
              "    }\n",
              "</style>\n",
              "<table border=\"1\" class=\"dataframe\">\n",
              "  <thead>\n",
              "    <tr style=\"text-align: right;\">\n",
              "      <th></th>\n",
              "      <th>SinarMatahari</th>\n",
              "      <th>SuhuMin</th>\n",
              "      <th>SuhuMax</th>\n",
              "      <th>BersaljuBesok</th>\n",
              "    </tr>\n",
              "  </thead>\n",
              "  <tbody>\n",
              "    <tr>\n",
              "      <th>0</th>\n",
              "      <td>NaN</td>\n",
              "      <td>10.4</td>\n",
              "      <td>15.5</td>\n",
              "      <td>Tidak</td>\n",
              "    </tr>\n",
              "    <tr>\n",
              "      <th>1</th>\n",
              "      <td>7.4</td>\n",
              "      <td>9.0</td>\n",
              "      <td>17.0</td>\n",
              "      <td>Ya</td>\n",
              "    </tr>\n",
              "    <tr>\n",
              "      <th>2</th>\n",
              "      <td>NaN</td>\n",
              "      <td>18.2</td>\n",
              "      <td>32.0</td>\n",
              "      <td>Tidak</td>\n",
              "    </tr>\n",
              "    <tr>\n",
              "      <th>3</th>\n",
              "      <td>10.4</td>\n",
              "      <td>7.3</td>\n",
              "      <td>24.5</td>\n",
              "      <td>Tidak</td>\n",
              "    </tr>\n",
              "    <tr>\n",
              "      <th>4</th>\n",
              "      <td>12.6</td>\n",
              "      <td>5.9</td>\n",
              "      <td>20.3</td>\n",
              "      <td>Tidak</td>\n",
              "    </tr>\n",
              "    <tr>\n",
              "      <th>...</th>\n",
              "      <td>...</td>\n",
              "      <td>...</td>\n",
              "      <td>...</td>\n",
              "      <td>...</td>\n",
              "    </tr>\n",
              "    <tr>\n",
              "      <th>109090</th>\n",
              "      <td>8.9</td>\n",
              "      <td>20.1</td>\n",
              "      <td>23.7</td>\n",
              "      <td>Ya</td>\n",
              "    </tr>\n",
              "    <tr>\n",
              "      <th>109091</th>\n",
              "      <td>NaN</td>\n",
              "      <td>15.7</td>\n",
              "      <td>25.2</td>\n",
              "      <td>Ya</td>\n",
              "    </tr>\n",
              "    <tr>\n",
              "      <th>109092</th>\n",
              "      <td>NaN</td>\n",
              "      <td>7.5</td>\n",
              "      <td>20.4</td>\n",
              "      <td>Tidak</td>\n",
              "    </tr>\n",
              "    <tr>\n",
              "      <th>109093</th>\n",
              "      <td>11.2</td>\n",
              "      <td>10.8</td>\n",
              "      <td>29.8</td>\n",
              "      <td>Tidak</td>\n",
              "    </tr>\n",
              "    <tr>\n",
              "      <th>109094</th>\n",
              "      <td>NaN</td>\n",
              "      <td>12.3</td>\n",
              "      <td>27.4</td>\n",
              "      <td>Tidak</td>\n",
              "    </tr>\n",
              "  </tbody>\n",
              "</table>\n",
              "<p>109095 rows × 4 columns</p>\n",
              "</div>"
            ],
            "text/plain": [
              "        SinarMatahari  SuhuMin  SuhuMax BersaljuBesok\n",
              "0                 NaN     10.4     15.5         Tidak\n",
              "1                 7.4      9.0     17.0            Ya\n",
              "2                 NaN     18.2     32.0         Tidak\n",
              "3                10.4      7.3     24.5         Tidak\n",
              "4                12.6      5.9     20.3         Tidak\n",
              "...               ...      ...      ...           ...\n",
              "109090            8.9     20.1     23.7            Ya\n",
              "109091            NaN     15.7     25.2            Ya\n",
              "109092            NaN      7.5     20.4         Tidak\n",
              "109093           11.2     10.8     29.8         Tidak\n",
              "109094            NaN     12.3     27.4         Tidak\n",
              "\n",
              "[109095 rows x 4 columns]"
            ]
          },
          "metadata": {
            "tags": []
          },
          "execution_count": 5
        }
      ]
    },
    {
      "cell_type": "code",
      "metadata": {
        "colab": {
          "base_uri": "https://localhost:8080/",
          "height": 388
        },
        "id": "KOkq3vM2IMhg",
        "outputId": "398340a9-8f5b-49d8-82e4-392986c6bf17"
      },
      "source": [
        "# Menghilangkan missing data dan data yang redundant\n",
        "\n",
        "prepared_data = prepared_data.dropna()\n",
        "prepared_data = prepared_data.drop_duplicates(keep='first')\n",
        "prepared_data"
      ],
      "execution_count": 6,
      "outputs": [
        {
          "output_type": "execute_result",
          "data": {
            "text/html": [
              "<div>\n",
              "<style scoped>\n",
              "    .dataframe tbody tr th:only-of-type {\n",
              "        vertical-align: middle;\n",
              "    }\n",
              "\n",
              "    .dataframe tbody tr th {\n",
              "        vertical-align: top;\n",
              "    }\n",
              "\n",
              "    .dataframe thead th {\n",
              "        text-align: right;\n",
              "    }\n",
              "</style>\n",
              "<table border=\"1\" class=\"dataframe\">\n",
              "  <thead>\n",
              "    <tr style=\"text-align: right;\">\n",
              "      <th></th>\n",
              "      <th>SinarMatahari</th>\n",
              "      <th>SuhuMin</th>\n",
              "      <th>SuhuMax</th>\n",
              "      <th>BersaljuBesok</th>\n",
              "    </tr>\n",
              "  </thead>\n",
              "  <tbody>\n",
              "    <tr>\n",
              "      <th>1</th>\n",
              "      <td>7.4</td>\n",
              "      <td>9.0</td>\n",
              "      <td>17.0</td>\n",
              "      <td>Ya</td>\n",
              "    </tr>\n",
              "    <tr>\n",
              "      <th>3</th>\n",
              "      <td>10.4</td>\n",
              "      <td>7.3</td>\n",
              "      <td>24.5</td>\n",
              "      <td>Tidak</td>\n",
              "    </tr>\n",
              "    <tr>\n",
              "      <th>4</th>\n",
              "      <td>12.6</td>\n",
              "      <td>5.9</td>\n",
              "      <td>20.3</td>\n",
              "      <td>Tidak</td>\n",
              "    </tr>\n",
              "    <tr>\n",
              "      <th>5</th>\n",
              "      <td>4.4</td>\n",
              "      <td>14.4</td>\n",
              "      <td>21.8</td>\n",
              "      <td>Tidak</td>\n",
              "    </tr>\n",
              "    <tr>\n",
              "      <th>6</th>\n",
              "      <td>9.7</td>\n",
              "      <td>7.7</td>\n",
              "      <td>18.7</td>\n",
              "      <td>Tidak</td>\n",
              "    </tr>\n",
              "    <tr>\n",
              "      <th>...</th>\n",
              "      <td>...</td>\n",
              "      <td>...</td>\n",
              "      <td>...</td>\n",
              "      <td>...</td>\n",
              "    </tr>\n",
              "    <tr>\n",
              "      <th>109080</th>\n",
              "      <td>10.3</td>\n",
              "      <td>16.8</td>\n",
              "      <td>34.1</td>\n",
              "      <td>Tidak</td>\n",
              "    </tr>\n",
              "    <tr>\n",
              "      <th>109082</th>\n",
              "      <td>9.6</td>\n",
              "      <td>8.7</td>\n",
              "      <td>19.0</td>\n",
              "      <td>Tidak</td>\n",
              "    </tr>\n",
              "    <tr>\n",
              "      <th>109088</th>\n",
              "      <td>12.6</td>\n",
              "      <td>14.3</td>\n",
              "      <td>26.2</td>\n",
              "      <td>Tidak</td>\n",
              "    </tr>\n",
              "    <tr>\n",
              "      <th>109090</th>\n",
              "      <td>8.9</td>\n",
              "      <td>20.1</td>\n",
              "      <td>23.7</td>\n",
              "      <td>Ya</td>\n",
              "    </tr>\n",
              "    <tr>\n",
              "      <th>109093</th>\n",
              "      <td>11.2</td>\n",
              "      <td>10.8</td>\n",
              "      <td>29.8</td>\n",
              "      <td>Tidak</td>\n",
              "    </tr>\n",
              "  </tbody>\n",
              "</table>\n",
              "<p>55246 rows × 4 columns</p>\n",
              "</div>"
            ],
            "text/plain": [
              "        SinarMatahari  SuhuMin  SuhuMax BersaljuBesok\n",
              "1                 7.4      9.0     17.0            Ya\n",
              "3                10.4      7.3     24.5         Tidak\n",
              "4                12.6      5.9     20.3         Tidak\n",
              "5                 4.4     14.4     21.8         Tidak\n",
              "6                 9.7      7.7     18.7         Tidak\n",
              "...               ...      ...      ...           ...\n",
              "109080           10.3     16.8     34.1         Tidak\n",
              "109082            9.6      8.7     19.0         Tidak\n",
              "109088           12.6     14.3     26.2         Tidak\n",
              "109090            8.9     20.1     23.7            Ya\n",
              "109093           11.2     10.8     29.8         Tidak\n",
              "\n",
              "[55246 rows x 4 columns]"
            ]
          },
          "metadata": {
            "tags": []
          },
          "execution_count": 6
        }
      ]
    },
    {
      "cell_type": "code",
      "metadata": {
        "colab": {
          "base_uri": "https://localhost:8080/",
          "height": 295
        },
        "id": "_xKIG30bIPAx",
        "outputId": "4f00f52e-3578-4f9b-dcae-1a6fa3f3deb2"
      },
      "source": [
        "sns.boxplot(x=prepared_data['SinarMatahari'])"
      ],
      "execution_count": 7,
      "outputs": [
        {
          "output_type": "execute_result",
          "data": {
            "text/plain": [
              "<matplotlib.axes._subplots.AxesSubplot at 0x7f3eee93fcd0>"
            ]
          },
          "metadata": {
            "tags": []
          },
          "execution_count": 7
        },
        {
          "output_type": "display_data",
          "data": {
            "image/png": "[encoded data removed]",
            "text/plain": [
              "<Figure size 432x288 with 1 Axes>"
            ]
          },
          "metadata": {
            "tags": [],
            "needs_background": "light"
          }
        }
      ]
    },
    {
      "cell_type": "code",
      "metadata": {
        "colab": {
          "base_uri": "https://localhost:8080/",
          "height": 295
        },
        "id": "6KEwipC1IWbP",
        "outputId": "6f29e435-839f-4f53-e8d9-47fc216696db"
      },
      "source": [
        "sns.boxplot(x=prepared_data['SuhuMin'])"
      ],
      "execution_count": 8,
      "outputs": [
        {
          "output_type": "execute_result",
          "data": {
            "text/plain": [
              "<matplotlib.axes._subplots.AxesSubplot at 0x7f3eee4ab850>"
            ]
          },
          "metadata": {
            "tags": []
          },
          "execution_count": 8
        },
        {
          "output_type": "display_data",
          "data": {
            "image/png": "[encoded data removed]",
            "text/plain": [
              "<Figure size 432x288 with 1 Axes>"
            ]
          },
          "metadata": {
            "tags": [],
            "needs_background": "light"
          }
        }
      ]
    },
    {
      "cell_type": "code",
      "metadata": {
        "colab": {
          "base_uri": "https://localhost:8080/",
          "height": 295
        },
        "id": "XyD2ArVrIYTY",
        "outputId": "db4baa23-ee50-4fd9-ddc7-11d1fc8a985b"
      },
      "source": [
        "sns.boxplot(x=prepared_data['SuhuMax'])"
      ],
      "execution_count": 9,
      "outputs": [
        {
          "output_type": "execute_result",
          "data": {
            "text/plain": [
              "<matplotlib.axes._subplots.AxesSubplot at 0x7f3eeeb7d690>"
            ]
          },
          "metadata": {
            "tags": []
          },
          "execution_count": 9
        },
        {
          "output_type": "display_data",
          "data": {
            "image/png": "[encoded data removed]",
            "text/plain": [
              "<Figure size 432x288 with 1 Axes>"
            ]
          },
          "metadata": {
            "tags": [],
            "needs_background": "light"
          }
        }
      ]
    },
    {
      "cell_type": "code",
      "metadata": {
        "colab": {
          "base_uri": "https://localhost:8080/",
          "height": 295
        },
        "id": "yPG0aUW3IfYJ",
        "outputId": "c71dad56-bb5d-41e8-9b56-36745ce455d2"
      },
      "source": [
        "# Menghilangkan data Quartil/outlers Fitur Penguapan\n",
        "Q1 = prepared_data['SinarMatahari'].quantile(0.25)\n",
        "Q3 = prepared_data['SinarMatahari'].quantile(0.75)\n",
        "IQR = Q3 - Q1    \n",
        "\n",
        "filter = (prepared_data['SinarMatahari'] >= Q1 - 1.5 * IQR) & (prepared_data['SinarMatahari'] <= Q3 + 1.5 *IQR)\n",
        "prepared_data = prepared_data.loc[filter] \n",
        "sns.boxplot(x=prepared_data['SinarMatahari'])"
      ],
      "execution_count": 10,
      "outputs": [
        {
          "output_type": "execute_result",
          "data": {
            "text/plain": [
              "<matplotlib.axes._subplots.AxesSubplot at 0x7f3ef6c7e2d0>"
            ]
          },
          "metadata": {
            "tags": []
          },
          "execution_count": 10
        },
        {
          "output_type": "display_data",
          "data": {
            "image/png": "[encoded data removed]",
            "text/plain": [
              "<Figure size 432x288 with 1 Axes>"
            ]
          },
          "metadata": {
            "tags": [],
            "needs_background": "light"
          }
        }
      ]
    },
    {
      "cell_type": "code",
      "metadata": {
        "colab": {
          "base_uri": "https://localhost:8080/",
          "height": 295
        },
        "id": "cE1__NDzIlzw",
        "outputId": "5ef07093-dfd8-4db8-d45f-9a9d0dd1609f"
      },
      "source": [
        "# Menghilangkan data Quartil/outlers Fitur Suhu Min\n",
        "Q1 = prepared_data['SuhuMin'].quantile(0.25)\n",
        "Q3 = prepared_data['SuhuMin'].quantile(0.75)\n",
        "IQR = Q3 - Q1    \n",
        "\n",
        "filter = (prepared_data['SuhuMin'] >= Q1 - 1.5 * IQR) & (prepared_data['SuhuMin'] <= Q3 + 1.5 *IQR)\n",
        "prepared_data = prepared_data.loc[filter] \n",
        "sns.boxplot(x=prepared_data['SuhuMin'])"
      ],
      "execution_count": 11,
      "outputs": [
        {
          "output_type": "execute_result",
          "data": {
            "text/plain": [
              "<matplotlib.axes._subplots.AxesSubplot at 0x7f3ef8d932d0>"
            ]
          },
          "metadata": {
            "tags": []
          },
          "execution_count": 11
        },
        {
          "output_type": "display_data",
          "data": {
            "image/png": "[encoded data removed]",
            "text/plain": [
              "<Figure size 432x288 with 1 Axes>"
            ]
          },
          "metadata": {
            "tags": [],
            "needs_background": "light"
          }
        }
      ]
    },
    {
      "cell_type": "code",
      "metadata": {
        "colab": {
          "base_uri": "https://localhost:8080/",
          "height": 295
        },
        "id": "0Mn2ETGzIxle",
        "outputId": "79c61011-f552-4375-babf-e0120f61677a"
      },
      "source": [
        "# Menghilangkan data Quartil/outlers Fitur Suhu Max\n",
        "Q1 = prepared_data['SuhuMax'].quantile(0.25)\n",
        "Q3 = prepared_data['SuhuMax'].quantile(0.75)\n",
        "IQR = Q3 - Q1    \n",
        "\n",
        "filter = (prepared_data['SuhuMax'] >= Q1 - 1.5 * IQR) & (prepared_data['SuhuMax'] <= Q3 + 1.5 *IQR)\n",
        "prepared_data = prepared_data.loc[filter] \n",
        "sns.boxplot(x=prepared_data['SuhuMax'])"
      ],
      "execution_count": 12,
      "outputs": [
        {
          "output_type": "execute_result",
          "data": {
            "text/plain": [
              "<matplotlib.axes._subplots.AxesSubplot at 0x7f3eeeaf8b10>"
            ]
          },
          "metadata": {
            "tags": []
          },
          "execution_count": 12
        },
        {
          "output_type": "display_data",
          "data": {
            "image/png": "[encoded data removed]",
            "text/plain": [
              "<Figure size 432x288 with 1 Axes>"
            ]
          },
          "metadata": {
            "tags": [],
            "needs_background": "light"
          }
        }
      ]
    },
    {
      "cell_type": "code",
      "metadata": {
        "colab": {
          "base_uri": "https://localhost:8080/",
          "height": 388
        },
        "id": "tn81wDmaI67J",
        "outputId": "2ac938c0-c5b9-427e-f85a-196c3f08f142"
      },
      "source": [
        "prepared_data = prepared_data.reset_index(drop=True)\n",
        "prepared_data\n"
      ],
      "execution_count": 13,
      "outputs": [
        {
          "output_type": "execute_result",
          "data": {
            "text/html": [
              "<div>\n",
              "<style scoped>\n",
              "    .dataframe tbody tr th:only-of-type {\n",
              "        vertical-align: middle;\n",
              "    }\n",
              "\n",
              "    .dataframe tbody tr th {\n",
              "        vertical-align: top;\n",
              "    }\n",
              "\n",
              "    .dataframe thead th {\n",
              "        text-align: right;\n",
              "    }\n",
              "</style>\n",
              "<table border=\"1\" class=\"dataframe\">\n",
              "  <thead>\n",
              "    <tr style=\"text-align: right;\">\n",
              "      <th></th>\n",
              "      <th>SinarMatahari</th>\n",
              "      <th>SuhuMin</th>\n",
              "      <th>SuhuMax</th>\n",
              "      <th>BersaljuBesok</th>\n",
              "    </tr>\n",
              "  </thead>\n",
              "  <tbody>\n",
              "    <tr>\n",
              "      <th>0</th>\n",
              "      <td>7.4</td>\n",
              "      <td>9.0</td>\n",
              "      <td>17.0</td>\n",
              "      <td>Ya</td>\n",
              "    </tr>\n",
              "    <tr>\n",
              "      <th>1</th>\n",
              "      <td>10.4</td>\n",
              "      <td>7.3</td>\n",
              "      <td>24.5</td>\n",
              "      <td>Tidak</td>\n",
              "    </tr>\n",
              "    <tr>\n",
              "      <th>2</th>\n",
              "      <td>12.6</td>\n",
              "      <td>5.9</td>\n",
              "      <td>20.3</td>\n",
              "      <td>Tidak</td>\n",
              "    </tr>\n",
              "    <tr>\n",
              "      <th>3</th>\n",
              "      <td>4.4</td>\n",
              "      <td>14.4</td>\n",
              "      <td>21.8</td>\n",
              "      <td>Tidak</td>\n",
              "    </tr>\n",
              "    <tr>\n",
              "      <th>4</th>\n",
              "      <td>9.7</td>\n",
              "      <td>7.7</td>\n",
              "      <td>18.7</td>\n",
              "      <td>Tidak</td>\n",
              "    </tr>\n",
              "    <tr>\n",
              "      <th>...</th>\n",
              "      <td>...</td>\n",
              "      <td>...</td>\n",
              "      <td>...</td>\n",
              "      <td>...</td>\n",
              "    </tr>\n",
              "    <tr>\n",
              "      <th>55210</th>\n",
              "      <td>10.3</td>\n",
              "      <td>16.8</td>\n",
              "      <td>34.1</td>\n",
              "      <td>Tidak</td>\n",
              "    </tr>\n",
              "    <tr>\n",
              "      <th>55211</th>\n",
              "      <td>9.6</td>\n",
              "      <td>8.7</td>\n",
              "      <td>19.0</td>\n",
              "      <td>Tidak</td>\n",
              "    </tr>\n",
              "    <tr>\n",
              "      <th>55212</th>\n",
              "      <td>12.6</td>\n",
              "      <td>14.3</td>\n",
              "      <td>26.2</td>\n",
              "      <td>Tidak</td>\n",
              "    </tr>\n",
              "    <tr>\n",
              "      <th>55213</th>\n",
              "      <td>8.9</td>\n",
              "      <td>20.1</td>\n",
              "      <td>23.7</td>\n",
              "      <td>Ya</td>\n",
              "    </tr>\n",
              "    <tr>\n",
              "      <th>55214</th>\n",
              "      <td>11.2</td>\n",
              "      <td>10.8</td>\n",
              "      <td>29.8</td>\n",
              "      <td>Tidak</td>\n",
              "    </tr>\n",
              "  </tbody>\n",
              "</table>\n",
              "<p>55215 rows × 4 columns</p>\n",
              "</div>"
            ],
            "text/plain": [
              "       SinarMatahari  SuhuMin  SuhuMax BersaljuBesok\n",
              "0                7.4      9.0     17.0            Ya\n",
              "1               10.4      7.3     24.5         Tidak\n",
              "2               12.6      5.9     20.3         Tidak\n",
              "3                4.4     14.4     21.8         Tidak\n",
              "4                9.7      7.7     18.7         Tidak\n",
              "...              ...      ...      ...           ...\n",
              "55210           10.3     16.8     34.1         Tidak\n",
              "55211            9.6      8.7     19.0         Tidak\n",
              "55212           12.6     14.3     26.2         Tidak\n",
              "55213            8.9     20.1     23.7            Ya\n",
              "55214           11.2     10.8     29.8         Tidak\n",
              "\n",
              "[55215 rows x 4 columns]"
            ]
          },
          "metadata": {
            "tags": []
          },
          "execution_count": 13
        }
      ]
    },
    {
      "cell_type": "code",
      "metadata": {
        "colab": {
          "base_uri": "https://localhost:8080/"
        },
        "id": "LQPLu1LUI-ZG",
        "outputId": "fd566524-362d-49fa-ac3c-ef3d3b704a06"
      },
      "source": [
        "#Memisahkan Target Kelas\n",
        "labelencoder = preprocessing.LabelEncoder()\n",
        "\n",
        "prepared_data['BersaljuBesok'] = labelencoder.fit_transform(prepared_data['BersaljuBesok'])\n",
        "\n",
        "prepared_data\n",
        "Y_Training = prepared_data['BersaljuBesok'].values\n",
        "print(Y_Training)"
      ],
      "execution_count": 14,
      "outputs": [
        {
          "output_type": "stream",
          "text": [
            "[1 0 0 ... 0 1 0]\n"
          ],
          "name": "stdout"
        }
      ]
    },
    {
      "cell_type": "markdown",
      "metadata": {
        "id": "pWizcv_COTAs"
      },
      "source": [
        "# **Normalisasi Data**"
      ]
    },
    {
      "cell_type": "code",
      "metadata": {
        "id": "nRLYPq0vMrVo"
      },
      "source": [
        "prepared_data = prepared_data.drop(columns=['BersaljuBesok']) "
      ],
      "execution_count": 15,
      "outputs": []
    },
    {
      "cell_type": "code",
      "metadata": {
        "colab": {
          "base_uri": "https://localhost:8080/",
          "height": 388
        },
        "id": "Y6UQsmrCJi_Z",
        "outputId": "8ffb3029-072e-49aa-e9c0-7a5e775826eb"
      },
      "source": [
        "#Data Sebelum Normalisasi\n",
        "prepared_data"
      ],
      "execution_count": 16,
      "outputs": [
        {
          "output_type": "execute_result",
          "data": {
            "text/html": [
              "<div>\n",
              "<style scoped>\n",
              "    .dataframe tbody tr th:only-of-type {\n",
              "        vertical-align: middle;\n",
              "    }\n",
              "\n",
              "    .dataframe tbody tr th {\n",
              "        vertical-align: top;\n",
              "    }\n",
              "\n",
              "    .dataframe thead th {\n",
              "        text-align: right;\n",
              "    }\n",
              "</style>\n",
              "<table border=\"1\" class=\"dataframe\">\n",
              "  <thead>\n",
              "    <tr style=\"text-align: right;\">\n",
              "      <th></th>\n",
              "      <th>SinarMatahari</th>\n",
              "      <th>SuhuMin</th>\n",
              "      <th>SuhuMax</th>\n",
              "    </tr>\n",
              "  </thead>\n",
              "  <tbody>\n",
              "    <tr>\n",
              "      <th>0</th>\n",
              "      <td>7.4</td>\n",
              "      <td>9.0</td>\n",
              "      <td>17.0</td>\n",
              "    </tr>\n",
              "    <tr>\n",
              "      <th>1</th>\n",
              "      <td>10.4</td>\n",
              "      <td>7.3</td>\n",
              "      <td>24.5</td>\n",
              "    </tr>\n",
              "    <tr>\n",
              "      <th>2</th>\n",
              "      <td>12.6</td>\n",
              "      <td>5.9</td>\n",
              "      <td>20.3</td>\n",
              "    </tr>\n",
              "    <tr>\n",
              "      <th>3</th>\n",
              "      <td>4.4</td>\n",
              "      <td>14.4</td>\n",
              "      <td>21.8</td>\n",
              "    </tr>\n",
              "    <tr>\n",
              "      <th>4</th>\n",
              "      <td>9.7</td>\n",
              "      <td>7.7</td>\n",
              "      <td>18.7</td>\n",
              "    </tr>\n",
              "    <tr>\n",
              "      <th>...</th>\n",
              "      <td>...</td>\n",
              "      <td>...</td>\n",
              "      <td>...</td>\n",
              "    </tr>\n",
              "    <tr>\n",
              "      <th>55210</th>\n",
              "      <td>10.3</td>\n",
              "      <td>16.8</td>\n",
              "      <td>34.1</td>\n",
              "    </tr>\n",
              "    <tr>\n",
              "      <th>55211</th>\n",
              "      <td>9.6</td>\n",
              "      <td>8.7</td>\n",
              "      <td>19.0</td>\n",
              "    </tr>\n",
              "    <tr>\n",
              "      <th>55212</th>\n",
              "      <td>12.6</td>\n",
              "      <td>14.3</td>\n",
              "      <td>26.2</td>\n",
              "    </tr>\n",
              "    <tr>\n",
              "      <th>55213</th>\n",
              "      <td>8.9</td>\n",
              "      <td>20.1</td>\n",
              "      <td>23.7</td>\n",
              "    </tr>\n",
              "    <tr>\n",
              "      <th>55214</th>\n",
              "      <td>11.2</td>\n",
              "      <td>10.8</td>\n",
              "      <td>29.8</td>\n",
              "    </tr>\n",
              "  </tbody>\n",
              "</table>\n",
              "<p>55215 rows × 3 columns</p>\n",
              "</div>"
            ],
            "text/plain": [
              "       SinarMatahari  SuhuMin  SuhuMax\n",
              "0                7.4      9.0     17.0\n",
              "1               10.4      7.3     24.5\n",
              "2               12.6      5.9     20.3\n",
              "3                4.4     14.4     21.8\n",
              "4                9.7      7.7     18.7\n",
              "...              ...      ...      ...\n",
              "55210           10.3     16.8     34.1\n",
              "55211            9.6      8.7     19.0\n",
              "55212           12.6     14.3     26.2\n",
              "55213            8.9     20.1     23.7\n",
              "55214           11.2     10.8     29.8\n",
              "\n",
              "[55215 rows x 3 columns]"
            ]
          },
          "metadata": {
            "tags": []
          },
          "execution_count": 16
        }
      ]
    },
    {
      "cell_type": "code",
      "metadata": {
        "colab": {
          "base_uri": "https://localhost:8080/",
          "height": 388
        },
        "id": "VU4QoBSrwR-l",
        "outputId": "9a36a50d-9a01-4719-9dc4-22529d27a2df"
      },
      "source": [
        "data = prepared_data.loc[:,['SinarMatahari','SuhuMin','SuhuMax']]\n",
        "def z_score(df):\n",
        "   df.columns = [x  for x in df.columns.tolist()]\n",
        "   return ((df - df.mean())/df.std(ddof=0))\n",
        "\n",
        "X_training = z_score(data)\n",
        "X_training"
      ],
      "execution_count": 17,
      "outputs": [
        {
          "output_type": "execute_result",
          "data": {
            "text/html": [
              "<div>\n",
              "<style scoped>\n",
              "    .dataframe tbody tr th:only-of-type {\n",
              "        vertical-align: middle;\n",
              "    }\n",
              "\n",
              "    .dataframe tbody tr th {\n",
              "        vertical-align: top;\n",
              "    }\n",
              "\n",
              "    .dataframe thead th {\n",
              "        text-align: right;\n",
              "    }\n",
              "</style>\n",
              "<table border=\"1\" class=\"dataframe\">\n",
              "  <thead>\n",
              "    <tr style=\"text-align: right;\">\n",
              "      <th></th>\n",
              "      <th>SinarMatahari</th>\n",
              "      <th>SuhuMin</th>\n",
              "      <th>SuhuMax</th>\n",
              "    </tr>\n",
              "  </thead>\n",
              "  <tbody>\n",
              "    <tr>\n",
              "      <th>0</th>\n",
              "      <td>-0.056282</td>\n",
              "      <td>-0.634589</td>\n",
              "      <td>-0.968314</td>\n",
              "    </tr>\n",
              "    <tr>\n",
              "      <th>1</th>\n",
              "      <td>0.736886</td>\n",
              "      <td>-0.905503</td>\n",
              "      <td>0.115510</td>\n",
              "    </tr>\n",
              "    <tr>\n",
              "      <th>2</th>\n",
              "      <td>1.318543</td>\n",
              "      <td>-1.128608</td>\n",
              "      <td>-0.491432</td>\n",
              "    </tr>\n",
              "    <tr>\n",
              "      <th>3</th>\n",
              "      <td>-0.849450</td>\n",
              "      <td>0.225960</td>\n",
              "      <td>-0.274667</td>\n",
              "    </tr>\n",
              "    <tr>\n",
              "      <th>4</th>\n",
              "      <td>0.551814</td>\n",
              "      <td>-0.841758</td>\n",
              "      <td>-0.722647</td>\n",
              "    </tr>\n",
              "    <tr>\n",
              "      <th>...</th>\n",
              "      <td>...</td>\n",
              "      <td>...</td>\n",
              "      <td>...</td>\n",
              "    </tr>\n",
              "    <tr>\n",
              "      <th>55210</th>\n",
              "      <td>0.710447</td>\n",
              "      <td>0.608427</td>\n",
              "      <td>1.502804</td>\n",
              "    </tr>\n",
              "    <tr>\n",
              "      <th>55211</th>\n",
              "      <td>0.525375</td>\n",
              "      <td>-0.682397</td>\n",
              "      <td>-0.679294</td>\n",
              "    </tr>\n",
              "    <tr>\n",
              "      <th>55212</th>\n",
              "      <td>1.318543</td>\n",
              "      <td>0.210024</td>\n",
              "      <td>0.361176</td>\n",
              "    </tr>\n",
              "    <tr>\n",
              "      <th>55213</th>\n",
              "      <td>0.340302</td>\n",
              "      <td>1.134318</td>\n",
              "      <td>-0.000098</td>\n",
              "    </tr>\n",
              "    <tr>\n",
              "      <th>55214</th>\n",
              "      <td>0.948398</td>\n",
              "      <td>-0.347739</td>\n",
              "      <td>0.881412</td>\n",
              "    </tr>\n",
              "  </tbody>\n",
              "</table>\n",
              "<p>55215 rows × 3 columns</p>\n",
              "</div>"
            ],
            "text/plain": [
              "       SinarMatahari   SuhuMin   SuhuMax\n",
              "0          -0.056282 -0.634589 -0.968314\n",
              "1           0.736886 -0.905503  0.115510\n",
              "2           1.318543 -1.128608 -0.491432\n",
              "3          -0.849450  0.225960 -0.274667\n",
              "4           0.551814 -0.841758 -0.722647\n",
              "...              ...       ...       ...\n",
              "55210       0.710447  0.608427  1.502804\n",
              "55211       0.525375 -0.682397 -0.679294\n",
              "55212       1.318543  0.210024  0.361176\n",
              "55213       0.340302  1.134318 -0.000098\n",
              "55214       0.948398 -0.347739  0.881412\n",
              "\n",
              "[55215 rows x 3 columns]"
            ]
          },
          "metadata": {
            "tags": []
          },
          "execution_count": 17
        }
      ]
    },
    {
      "cell_type": "markdown",
      "metadata": {
        "id": "kugDeLuNW8Nt"
      },
      "source": [
        "# **Data Testing**"
      ]
    },
    {
      "cell_type": "markdown",
      "metadata": {
        "id": "3Ui8rRXcOd1P"
      },
      "source": [
        "# **Preprocessing**"
      ]
    },
    {
      "cell_type": "code",
      "metadata": {
        "colab": {
          "base_uri": "https://localhost:8080/",
          "height": 408
        },
        "id": "uXmc8Ty1W2lV",
        "outputId": "56a63355-a512-4b4c-ce32-2e928ac3d1ff"
      },
      "source": [
        "# Membaca dataset testing Salju dan memasukannya kedalam data frame\n",
        "dftest = pd.read_csv('salju_test (1).csv')\n",
        "# Mengkonfigurasi, hanya ditampilkan beberapa dataset saja \n",
        "pd.set_option('display.max_rows', 20)\n",
        "dftest"
      ],
      "execution_count": 18,
      "outputs": [
        {
          "output_type": "execute_result",
          "data": {
            "text/html": [
              "<div>\n",
              "<style scoped>\n",
              "    .dataframe tbody tr th:only-of-type {\n",
              "        vertical-align: middle;\n",
              "    }\n",
              "\n",
              "    .dataframe tbody tr th {\n",
              "        vertical-align: top;\n",
              "    }\n",
              "\n",
              "    .dataframe thead th {\n",
              "        text-align: right;\n",
              "    }\n",
              "</style>\n",
              "<table border=\"1\" class=\"dataframe\">\n",
              "  <thead>\n",
              "    <tr style=\"text-align: right;\">\n",
              "      <th></th>\n",
              "      <th>Tanggal</th>\n",
              "      <th>KodeLokasi</th>\n",
              "      <th>SuhuMin</th>\n",
              "      <th>SuhuMax</th>\n",
              "      <th>Hujan</th>\n",
              "      <th>Penguapan</th>\n",
              "      <th>SinarMatahari</th>\n",
              "      <th>ArahAnginTerkencang</th>\n",
              "      <th>KecepatanAnginTerkencang</th>\n",
              "      <th>ArahAngin9am</th>\n",
              "      <th>ArahAngin3pm</th>\n",
              "      <th>KecepatanAngin9am</th>\n",
              "      <th>KecepatanAngin3pm</th>\n",
              "      <th>Kelembaban9am</th>\n",
              "      <th>Kelembaban3pm</th>\n",
              "      <th>Tekanan9am</th>\n",
              "      <th>Tekanan3pm</th>\n",
              "      <th>Awan9am</th>\n",
              "      <th>Awan3pm</th>\n",
              "      <th>Suhu9am</th>\n",
              "      <th>Suhu3pm</th>\n",
              "      <th>BersaljuHariIni</th>\n",
              "      <th>BersaljuBesok</th>\n",
              "    </tr>\n",
              "  </thead>\n",
              "  <tbody>\n",
              "    <tr>\n",
              "      <th>0</th>\n",
              "      <td>04/11/2010</td>\n",
              "      <td>C39</td>\n",
              "      <td>11.0</td>\n",
              "      <td>27.5</td>\n",
              "      <td>0.0</td>\n",
              "      <td>NaN</td>\n",
              "      <td>6.4</td>\n",
              "      <td>WSW</td>\n",
              "      <td>46.0</td>\n",
              "      <td>W</td>\n",
              "      <td>W</td>\n",
              "      <td>20.0</td>\n",
              "      <td>28.0</td>\n",
              "      <td>39.0</td>\n",
              "      <td>56.0</td>\n",
              "      <td>1013.0</td>\n",
              "      <td>1012.4</td>\n",
              "      <td>4.0</td>\n",
              "      <td>7.0</td>\n",
              "      <td>25.7</td>\n",
              "      <td>23.6</td>\n",
              "      <td>No</td>\n",
              "      <td>No</td>\n",
              "    </tr>\n",
              "    <tr>\n",
              "      <th>1</th>\n",
              "      <td>26/03/2015</td>\n",
              "      <td>C35</td>\n",
              "      <td>10.0</td>\n",
              "      <td>19.9</td>\n",
              "      <td>0.2</td>\n",
              "      <td>NaN</td>\n",
              "      <td>NaN</td>\n",
              "      <td>WNW</td>\n",
              "      <td>56.0</td>\n",
              "      <td>W</td>\n",
              "      <td>NW</td>\n",
              "      <td>24.0</td>\n",
              "      <td>33.0</td>\n",
              "      <td>76.0</td>\n",
              "      <td>32.0</td>\n",
              "      <td>1017.0</td>\n",
              "      <td>1015.2</td>\n",
              "      <td>8.0</td>\n",
              "      <td>1.0</td>\n",
              "      <td>10.7</td>\n",
              "      <td>18.9</td>\n",
              "      <td>No</td>\n",
              "      <td>Yes</td>\n",
              "    </tr>\n",
              "    <tr>\n",
              "      <th>2</th>\n",
              "      <td>22/03/2016</td>\n",
              "      <td>C18</td>\n",
              "      <td>9.2</td>\n",
              "      <td>27.2</td>\n",
              "      <td>0.0</td>\n",
              "      <td>5.2</td>\n",
              "      <td>10.4</td>\n",
              "      <td>SSW</td>\n",
              "      <td>33.0</td>\n",
              "      <td>NE</td>\n",
              "      <td>N</td>\n",
              "      <td>13.0</td>\n",
              "      <td>19.0</td>\n",
              "      <td>89.0</td>\n",
              "      <td>27.0</td>\n",
              "      <td>1018.6</td>\n",
              "      <td>1015.7</td>\n",
              "      <td>0.0</td>\n",
              "      <td>1.0</td>\n",
              "      <td>13.9</td>\n",
              "      <td>26.3</td>\n",
              "      <td>No</td>\n",
              "      <td>No</td>\n",
              "    </tr>\n",
              "    <tr>\n",
              "      <th>3</th>\n",
              "      <td>09/12/2011</td>\n",
              "      <td>C31</td>\n",
              "      <td>17.7</td>\n",
              "      <td>27.0</td>\n",
              "      <td>0.0</td>\n",
              "      <td>4.6</td>\n",
              "      <td>6.7</td>\n",
              "      <td>SW</td>\n",
              "      <td>35.0</td>\n",
              "      <td>E</td>\n",
              "      <td>SSE</td>\n",
              "      <td>20.0</td>\n",
              "      <td>15.0</td>\n",
              "      <td>55.0</td>\n",
              "      <td>41.0</td>\n",
              "      <td>1010.2</td>\n",
              "      <td>1008.6</td>\n",
              "      <td>7.0</td>\n",
              "      <td>6.0</td>\n",
              "      <td>22.3</td>\n",
              "      <td>26.4</td>\n",
              "      <td>No</td>\n",
              "      <td>No</td>\n",
              "    </tr>\n",
              "    <tr>\n",
              "      <th>4</th>\n",
              "      <td>20/05/2017</td>\n",
              "      <td>C14</td>\n",
              "      <td>2.3</td>\n",
              "      <td>7.9</td>\n",
              "      <td>88.0</td>\n",
              "      <td>NaN</td>\n",
              "      <td>NaN</td>\n",
              "      <td>NW</td>\n",
              "      <td>46.0</td>\n",
              "      <td>W</td>\n",
              "      <td>WNW</td>\n",
              "      <td>13.0</td>\n",
              "      <td>9.0</td>\n",
              "      <td>98.0</td>\n",
              "      <td>95.0</td>\n",
              "      <td>NaN</td>\n",
              "      <td>NaN</td>\n",
              "      <td>NaN</td>\n",
              "      <td>NaN</td>\n",
              "      <td>4.4</td>\n",
              "      <td>6.0</td>\n",
              "      <td>Yes</td>\n",
              "      <td>No</td>\n",
              "    </tr>\n",
              "    <tr>\n",
              "      <th>...</th>\n",
              "      <td>...</td>\n",
              "      <td>...</td>\n",
              "      <td>...</td>\n",
              "      <td>...</td>\n",
              "      <td>...</td>\n",
              "      <td>...</td>\n",
              "      <td>...</td>\n",
              "      <td>...</td>\n",
              "      <td>...</td>\n",
              "      <td>...</td>\n",
              "      <td>...</td>\n",
              "      <td>...</td>\n",
              "      <td>...</td>\n",
              "      <td>...</td>\n",
              "      <td>...</td>\n",
              "      <td>...</td>\n",
              "      <td>...</td>\n",
              "      <td>...</td>\n",
              "      <td>...</td>\n",
              "      <td>...</td>\n",
              "      <td>...</td>\n",
              "      <td>...</td>\n",
              "      <td>...</td>\n",
              "    </tr>\n",
              "    <tr>\n",
              "      <th>18177</th>\n",
              "      <td>14/11/2012</td>\n",
              "      <td>C40</td>\n",
              "      <td>7.8</td>\n",
              "      <td>25.8</td>\n",
              "      <td>0.0</td>\n",
              "      <td>8.0</td>\n",
              "      <td>13.2</td>\n",
              "      <td>NE</td>\n",
              "      <td>31.0</td>\n",
              "      <td>ENE</td>\n",
              "      <td>NW</td>\n",
              "      <td>22.0</td>\n",
              "      <td>13.0</td>\n",
              "      <td>59.0</td>\n",
              "      <td>21.0</td>\n",
              "      <td>1017.1</td>\n",
              "      <td>1014.2</td>\n",
              "      <td>6.0</td>\n",
              "      <td>1.0</td>\n",
              "      <td>16.8</td>\n",
              "      <td>24.0</td>\n",
              "      <td>No</td>\n",
              "      <td>No</td>\n",
              "    </tr>\n",
              "    <tr>\n",
              "      <th>18178</th>\n",
              "      <td>24/10/2015</td>\n",
              "      <td>C40</td>\n",
              "      <td>12.4</td>\n",
              "      <td>26.6</td>\n",
              "      <td>0.0</td>\n",
              "      <td>8.0</td>\n",
              "      <td>11.6</td>\n",
              "      <td>NW</td>\n",
              "      <td>37.0</td>\n",
              "      <td>NE</td>\n",
              "      <td>WNW</td>\n",
              "      <td>17.0</td>\n",
              "      <td>20.0</td>\n",
              "      <td>59.0</td>\n",
              "      <td>25.0</td>\n",
              "      <td>1022.2</td>\n",
              "      <td>1018.7</td>\n",
              "      <td>1.0</td>\n",
              "      <td>1.0</td>\n",
              "      <td>17.1</td>\n",
              "      <td>25.7</td>\n",
              "      <td>No</td>\n",
              "      <td>No</td>\n",
              "    </tr>\n",
              "    <tr>\n",
              "      <th>18179</th>\n",
              "      <td>31/08/2010</td>\n",
              "      <td>C21</td>\n",
              "      <td>6.7</td>\n",
              "      <td>22.9</td>\n",
              "      <td>0.0</td>\n",
              "      <td>NaN</td>\n",
              "      <td>NaN</td>\n",
              "      <td>NaN</td>\n",
              "      <td>NaN</td>\n",
              "      <td>NaN</td>\n",
              "      <td>NW</td>\n",
              "      <td>0.0</td>\n",
              "      <td>4.0</td>\n",
              "      <td>84.0</td>\n",
              "      <td>35.0</td>\n",
              "      <td>NaN</td>\n",
              "      <td>NaN</td>\n",
              "      <td>1.0</td>\n",
              "      <td>2.0</td>\n",
              "      <td>11.8</td>\n",
              "      <td>22.0</td>\n",
              "      <td>No</td>\n",
              "      <td>No</td>\n",
              "    </tr>\n",
              "    <tr>\n",
              "      <th>18180</th>\n",
              "      <td>24/08/2013</td>\n",
              "      <td>C12</td>\n",
              "      <td>12.5</td>\n",
              "      <td>26.7</td>\n",
              "      <td>0.0</td>\n",
              "      <td>9.0</td>\n",
              "      <td>10.8</td>\n",
              "      <td>NE</td>\n",
              "      <td>35.0</td>\n",
              "      <td>SW</td>\n",
              "      <td>ENE</td>\n",
              "      <td>2.0</td>\n",
              "      <td>26.0</td>\n",
              "      <td>56.0</td>\n",
              "      <td>45.0</td>\n",
              "      <td>1021.9</td>\n",
              "      <td>1018.1</td>\n",
              "      <td>5.0</td>\n",
              "      <td>5.0</td>\n",
              "      <td>22.9</td>\n",
              "      <td>25.4</td>\n",
              "      <td>No</td>\n",
              "      <td>No</td>\n",
              "    </tr>\n",
              "    <tr>\n",
              "      <th>18181</th>\n",
              "      <td>26/10/2011</td>\n",
              "      <td>C22</td>\n",
              "      <td>12.3</td>\n",
              "      <td>15.9</td>\n",
              "      <td>8.2</td>\n",
              "      <td>NaN</td>\n",
              "      <td>NaN</td>\n",
              "      <td>SE</td>\n",
              "      <td>31.0</td>\n",
              "      <td>SW</td>\n",
              "      <td>SSE</td>\n",
              "      <td>15.0</td>\n",
              "      <td>15.0</td>\n",
              "      <td>87.0</td>\n",
              "      <td>74.0</td>\n",
              "      <td>NaN</td>\n",
              "      <td>NaN</td>\n",
              "      <td>NaN</td>\n",
              "      <td>NaN</td>\n",
              "      <td>13.8</td>\n",
              "      <td>15.4</td>\n",
              "      <td>Yes</td>\n",
              "      <td>Yes</td>\n",
              "    </tr>\n",
              "  </tbody>\n",
              "</table>\n",
              "<p>18182 rows × 23 columns</p>\n",
              "</div>"
            ],
            "text/plain": [
              "          Tanggal KodeLokasi  SuhuMin  ...  Suhu3pm  BersaljuHariIni  BersaljuBesok\n",
              "0      04/11/2010        C39     11.0  ...     23.6               No             No\n",
              "1      26/03/2015        C35     10.0  ...     18.9               No            Yes\n",
              "2      22/03/2016        C18      9.2  ...     26.3               No             No\n",
              "3      09/12/2011        C31     17.7  ...     26.4               No             No\n",
              "4      20/05/2017        C14      2.3  ...      6.0              Yes             No\n",
              "...           ...        ...      ...  ...      ...              ...            ...\n",
              "18177  14/11/2012        C40      7.8  ...     24.0               No             No\n",
              "18178  24/10/2015        C40     12.4  ...     25.7               No             No\n",
              "18179  31/08/2010        C21      6.7  ...     22.0               No             No\n",
              "18180  24/08/2013        C12     12.5  ...     25.4               No             No\n",
              "18181  26/10/2011        C22     12.3  ...     15.4              Yes            Yes\n",
              "\n",
              "[18182 rows x 23 columns]"
            ]
          },
          "metadata": {
            "tags": []
          },
          "execution_count": 18
        }
      ]
    },
    {
      "cell_type": "code",
      "metadata": {
        "colab": {
          "base_uri": "https://localhost:8080/",
          "height": 388
        },
        "id": "IWcSPqNBXNFV",
        "outputId": "74ed4e88-f29e-4cde-955a-448e4f813381"
      },
      "source": [
        "# Melakukan copy dataframe, hanya untuk beberapa atribut yang akan digunakan\n",
        "\n",
        "prepared_datatest = dftest.loc[:,['SinarMatahari','SuhuMin','SuhuMax','BersaljuBesok']]\n",
        "pd.set_option('display.max_rows', 20)\n",
        "prepared_datatest"
      ],
      "execution_count": 19,
      "outputs": [
        {
          "output_type": "execute_result",
          "data": {
            "text/html": [
              "<div>\n",
              "<style scoped>\n",
              "    .dataframe tbody tr th:only-of-type {\n",
              "        vertical-align: middle;\n",
              "    }\n",
              "\n",
              "    .dataframe tbody tr th {\n",
              "        vertical-align: top;\n",
              "    }\n",
              "\n",
              "    .dataframe thead th {\n",
              "        text-align: right;\n",
              "    }\n",
              "</style>\n",
              "<table border=\"1\" class=\"dataframe\">\n",
              "  <thead>\n",
              "    <tr style=\"text-align: right;\">\n",
              "      <th></th>\n",
              "      <th>SinarMatahari</th>\n",
              "      <th>SuhuMin</th>\n",
              "      <th>SuhuMax</th>\n",
              "      <th>BersaljuBesok</th>\n",
              "    </tr>\n",
              "  </thead>\n",
              "  <tbody>\n",
              "    <tr>\n",
              "      <th>0</th>\n",
              "      <td>6.4</td>\n",
              "      <td>11.0</td>\n",
              "      <td>27.5</td>\n",
              "      <td>No</td>\n",
              "    </tr>\n",
              "    <tr>\n",
              "      <th>1</th>\n",
              "      <td>NaN</td>\n",
              "      <td>10.0</td>\n",
              "      <td>19.9</td>\n",
              "      <td>Yes</td>\n",
              "    </tr>\n",
              "    <tr>\n",
              "      <th>2</th>\n",
              "      <td>10.4</td>\n",
              "      <td>9.2</td>\n",
              "      <td>27.2</td>\n",
              "      <td>No</td>\n",
              "    </tr>\n",
              "    <tr>\n",
              "      <th>3</th>\n",
              "      <td>6.7</td>\n",
              "      <td>17.7</td>\n",
              "      <td>27.0</td>\n",
              "      <td>No</td>\n",
              "    </tr>\n",
              "    <tr>\n",
              "      <th>4</th>\n",
              "      <td>NaN</td>\n",
              "      <td>2.3</td>\n",
              "      <td>7.9</td>\n",
              "      <td>No</td>\n",
              "    </tr>\n",
              "    <tr>\n",
              "      <th>...</th>\n",
              "      <td>...</td>\n",
              "      <td>...</td>\n",
              "      <td>...</td>\n",
              "      <td>...</td>\n",
              "    </tr>\n",
              "    <tr>\n",
              "      <th>18177</th>\n",
              "      <td>13.2</td>\n",
              "      <td>7.8</td>\n",
              "      <td>25.8</td>\n",
              "      <td>No</td>\n",
              "    </tr>\n",
              "    <tr>\n",
              "      <th>18178</th>\n",
              "      <td>11.6</td>\n",
              "      <td>12.4</td>\n",
              "      <td>26.6</td>\n",
              "      <td>No</td>\n",
              "    </tr>\n",
              "    <tr>\n",
              "      <th>18179</th>\n",
              "      <td>NaN</td>\n",
              "      <td>6.7</td>\n",
              "      <td>22.9</td>\n",
              "      <td>No</td>\n",
              "    </tr>\n",
              "    <tr>\n",
              "      <th>18180</th>\n",
              "      <td>10.8</td>\n",
              "      <td>12.5</td>\n",
              "      <td>26.7</td>\n",
              "      <td>No</td>\n",
              "    </tr>\n",
              "    <tr>\n",
              "      <th>18181</th>\n",
              "      <td>NaN</td>\n",
              "      <td>12.3</td>\n",
              "      <td>15.9</td>\n",
              "      <td>Yes</td>\n",
              "    </tr>\n",
              "  </tbody>\n",
              "</table>\n",
              "<p>18182 rows × 4 columns</p>\n",
              "</div>"
            ],
            "text/plain": [
              "       SinarMatahari  SuhuMin  SuhuMax BersaljuBesok\n",
              "0                6.4     11.0     27.5            No\n",
              "1                NaN     10.0     19.9           Yes\n",
              "2               10.4      9.2     27.2            No\n",
              "3                6.7     17.7     27.0            No\n",
              "4                NaN      2.3      7.9            No\n",
              "...              ...      ...      ...           ...\n",
              "18177           13.2      7.8     25.8            No\n",
              "18178           11.6     12.4     26.6            No\n",
              "18179            NaN      6.7     22.9            No\n",
              "18180           10.8     12.5     26.7            No\n",
              "18181            NaN     12.3     15.9           Yes\n",
              "\n",
              "[18182 rows x 4 columns]"
            ]
          },
          "metadata": {
            "tags": []
          },
          "execution_count": 19
        }
      ]
    },
    {
      "cell_type": "code",
      "metadata": {
        "colab": {
          "base_uri": "https://localhost:8080/",
          "height": 388
        },
        "id": "AD6cPTXcXfiq",
        "outputId": "45a00d45-7151-4027-ef0d-8d7f3e44a419"
      },
      "source": [
        "# Menghilangkan missing data dan data yang redundant\n",
        "\n",
        "prepared_datatest = prepared_datatest.dropna()\n",
        "prepared_datatest = prepared_datatest.drop_duplicates(keep='first')\n",
        "prepared_datatest"
      ],
      "execution_count": 20,
      "outputs": [
        {
          "output_type": "execute_result",
          "data": {
            "text/html": [
              "<div>\n",
              "<style scoped>\n",
              "    .dataframe tbody tr th:only-of-type {\n",
              "        vertical-align: middle;\n",
              "    }\n",
              "\n",
              "    .dataframe tbody tr th {\n",
              "        vertical-align: top;\n",
              "    }\n",
              "\n",
              "    .dataframe thead th {\n",
              "        text-align: right;\n",
              "    }\n",
              "</style>\n",
              "<table border=\"1\" class=\"dataframe\">\n",
              "  <thead>\n",
              "    <tr style=\"text-align: right;\">\n",
              "      <th></th>\n",
              "      <th>SinarMatahari</th>\n",
              "      <th>SuhuMin</th>\n",
              "      <th>SuhuMax</th>\n",
              "      <th>BersaljuBesok</th>\n",
              "    </tr>\n",
              "  </thead>\n",
              "  <tbody>\n",
              "    <tr>\n",
              "      <th>0</th>\n",
              "      <td>6.4</td>\n",
              "      <td>11.0</td>\n",
              "      <td>27.5</td>\n",
              "      <td>No</td>\n",
              "    </tr>\n",
              "    <tr>\n",
              "      <th>2</th>\n",
              "      <td>10.4</td>\n",
              "      <td>9.2</td>\n",
              "      <td>27.2</td>\n",
              "      <td>No</td>\n",
              "    </tr>\n",
              "    <tr>\n",
              "      <th>3</th>\n",
              "      <td>6.7</td>\n",
              "      <td>17.7</td>\n",
              "      <td>27.0</td>\n",
              "      <td>No</td>\n",
              "    </tr>\n",
              "    <tr>\n",
              "      <th>6</th>\n",
              "      <td>1.0</td>\n",
              "      <td>12.4</td>\n",
              "      <td>14.5</td>\n",
              "      <td>Yes</td>\n",
              "    </tr>\n",
              "    <tr>\n",
              "      <th>7</th>\n",
              "      <td>3.9</td>\n",
              "      <td>14.4</td>\n",
              "      <td>22.4</td>\n",
              "      <td>No</td>\n",
              "    </tr>\n",
              "    <tr>\n",
              "      <th>...</th>\n",
              "      <td>...</td>\n",
              "      <td>...</td>\n",
              "      <td>...</td>\n",
              "      <td>...</td>\n",
              "    </tr>\n",
              "    <tr>\n",
              "      <th>18170</th>\n",
              "      <td>9.7</td>\n",
              "      <td>13.4</td>\n",
              "      <td>24.9</td>\n",
              "      <td>No</td>\n",
              "    </tr>\n",
              "    <tr>\n",
              "      <th>18174</th>\n",
              "      <td>10.1</td>\n",
              "      <td>14.6</td>\n",
              "      <td>27.8</td>\n",
              "      <td>No</td>\n",
              "    </tr>\n",
              "    <tr>\n",
              "      <th>18177</th>\n",
              "      <td>13.2</td>\n",
              "      <td>7.8</td>\n",
              "      <td>25.8</td>\n",
              "      <td>No</td>\n",
              "    </tr>\n",
              "    <tr>\n",
              "      <th>18178</th>\n",
              "      <td>11.6</td>\n",
              "      <td>12.4</td>\n",
              "      <td>26.6</td>\n",
              "      <td>No</td>\n",
              "    </tr>\n",
              "    <tr>\n",
              "      <th>18180</th>\n",
              "      <td>10.8</td>\n",
              "      <td>12.5</td>\n",
              "      <td>26.7</td>\n",
              "      <td>No</td>\n",
              "    </tr>\n",
              "  </tbody>\n",
              "</table>\n",
              "<p>9270 rows × 4 columns</p>\n",
              "</div>"
            ],
            "text/plain": [
              "       SinarMatahari  SuhuMin  SuhuMax BersaljuBesok\n",
              "0                6.4     11.0     27.5            No\n",
              "2               10.4      9.2     27.2            No\n",
              "3                6.7     17.7     27.0            No\n",
              "6                1.0     12.4     14.5           Yes\n",
              "7                3.9     14.4     22.4            No\n",
              "...              ...      ...      ...           ...\n",
              "18170            9.7     13.4     24.9            No\n",
              "18174           10.1     14.6     27.8            No\n",
              "18177           13.2      7.8     25.8            No\n",
              "18178           11.6     12.4     26.6            No\n",
              "18180           10.8     12.5     26.7            No\n",
              "\n",
              "[9270 rows x 4 columns]"
            ]
          },
          "metadata": {
            "tags": []
          },
          "execution_count": 20
        }
      ]
    },
    {
      "cell_type": "code",
      "metadata": {
        "id": "n1eKDiHRXjq5"
      },
      "source": [
        "# Menghilangkan Outliers/Kuartil Fitur Penguapan\n",
        "Q1 = prepared_datatest['SinarMatahari'].quantile(0.25)\n",
        "Q3 = prepared_datatest['SinarMatahari'].quantile(0.75)\n",
        "IQR = Q3 - Q1    \n",
        "\n",
        "filter = (prepared_datatest['SinarMatahari'] >= Q1 - 1.5 * IQR) & (prepared_datatest['SinarMatahari'] <= Q3 + 1.5 *IQR)\n",
        "prepared_datatest = prepared_datatest.loc[filter] "
      ],
      "execution_count": 21,
      "outputs": []
    },
    {
      "cell_type": "code",
      "metadata": {
        "id": "bke7bOfMXzFa"
      },
      "source": [
        "# Menghilangkan Outliers/Kuartil Fitur SuhuMin\n",
        "Q1 = prepared_datatest['SuhuMin'].quantile(0.25)\n",
        "Q3 = prepared_datatest['SuhuMin'].quantile(0.75)\n",
        "IQR = Q3 - Q1    \n",
        "\n",
        "filter = (prepared_datatest['SuhuMin'] >= Q1 - 1.5 * IQR) & (prepared_datatest['SuhuMin'] <= Q3 + 1.5 *IQR)\n",
        "prepared_datatest = prepared_datatest.loc[filter] "
      ],
      "execution_count": 22,
      "outputs": []
    },
    {
      "cell_type": "code",
      "metadata": {
        "id": "YoxNvwRfX6iZ"
      },
      "source": [
        "# Menghilangkan Outliers/Kuartil Fitur SuhuMin\n",
        "Q1 = prepared_datatest['SuhuMax'].quantile(0.25)\n",
        "Q3 = prepared_datatest['SuhuMax'].quantile(0.75)\n",
        "IQR = Q3 - Q1    \n",
        "\n",
        "filter = (prepared_datatest['SuhuMax'] >= Q1 - 1.5 * IQR) & (prepared_datatest['SuhuMax'] <= Q3 + 1.5 *IQR)\n",
        "prepared_datatest = prepared_datatest.loc[filter] "
      ],
      "execution_count": 23,
      "outputs": []
    },
    {
      "cell_type": "code",
      "metadata": {
        "id": "cWpsMEzGnSI4"
      },
      "source": [
        "#Memisahkan Target Kelas\n",
        "labelencoder = preprocessing.LabelEncoder()\n",
        "\n",
        "prepared_datatest['BersaljuBesok'] = labelencoder.fit_transform(prepared_datatest['BersaljuBesok'])\n",
        "Y_Test = prepared_datatest['BersaljuBesok'].values\n",
        "Y_Testing = prepared_datatest.loc[:,['BersaljuBesok']]\n",
        "Y_Testing.to_csv('Cek Kebenaran Data.csv ')"
      ],
      "execution_count": 24,
      "outputs": []
    },
    {
      "cell_type": "code",
      "metadata": {
        "id": "uFhnKCUJBkrv"
      },
      "source": [
        "prepared_datatest = prepared_datatest.drop(columns=['BersaljuBesok']) "
      ],
      "execution_count": 25,
      "outputs": []
    },
    {
      "cell_type": "markdown",
      "metadata": {
        "id": "1BDen_etOZxF"
      },
      "source": [
        "# **Normalisasi Data**"
      ]
    },
    {
      "cell_type": "code",
      "metadata": {
        "colab": {
          "base_uri": "https://localhost:8080/",
          "height": 388
        },
        "id": "znWSalvYYDgP",
        "outputId": "ac496e21-8b6d-4b77-8714-a4b84921e82e"
      },
      "source": [
        "dataa = prepared_datatest.loc[:,['SinarMatahari','SuhuMin','SuhuMax']]\n",
        "def z_score(df):\n",
        "   df.columns = [x  for x in df.columns.tolist()]\n",
        "   return ((df - df.mean())/df.std(ddof=0))\n",
        "\n",
        "X_Test = z_score(dataa)\n",
        "X_Test"
      ],
      "execution_count": 26,
      "outputs": [
        {
          "output_type": "execute_result",
          "data": {
            "text/html": [
              "<div>\n",
              "<style scoped>\n",
              "    .dataframe tbody tr th:only-of-type {\n",
              "        vertical-align: middle;\n",
              "    }\n",
              "\n",
              "    .dataframe tbody tr th {\n",
              "        vertical-align: top;\n",
              "    }\n",
              "\n",
              "    .dataframe thead th {\n",
              "        text-align: right;\n",
              "    }\n",
              "</style>\n",
              "<table border=\"1\" class=\"dataframe\">\n",
              "  <thead>\n",
              "    <tr style=\"text-align: right;\">\n",
              "      <th></th>\n",
              "      <th>SinarMatahari</th>\n",
              "      <th>SuhuMin</th>\n",
              "      <th>SuhuMax</th>\n",
              "    </tr>\n",
              "  </thead>\n",
              "  <tbody>\n",
              "    <tr>\n",
              "      <th>0</th>\n",
              "      <td>-0.328499</td>\n",
              "      <td>-0.324022</td>\n",
              "      <td>0.520949</td>\n",
              "    </tr>\n",
              "    <tr>\n",
              "      <th>2</th>\n",
              "      <td>0.726994</td>\n",
              "      <td>-0.607171</td>\n",
              "      <td>0.478045</td>\n",
              "    </tr>\n",
              "    <tr>\n",
              "      <th>3</th>\n",
              "      <td>-0.249337</td>\n",
              "      <td>0.729921</td>\n",
              "      <td>0.449443</td>\n",
              "    </tr>\n",
              "    <tr>\n",
              "      <th>6</th>\n",
              "      <td>-1.753415</td>\n",
              "      <td>-0.103795</td>\n",
              "      <td>-1.338203</td>\n",
              "    </tr>\n",
              "    <tr>\n",
              "      <th>7</th>\n",
              "      <td>-0.988183</td>\n",
              "      <td>0.210815</td>\n",
              "      <td>-0.208411</td>\n",
              "    </tr>\n",
              "    <tr>\n",
              "      <th>...</th>\n",
              "      <td>...</td>\n",
              "      <td>...</td>\n",
              "      <td>...</td>\n",
              "    </tr>\n",
              "    <tr>\n",
              "      <th>18170</th>\n",
              "      <td>0.542283</td>\n",
              "      <td>0.053510</td>\n",
              "      <td>0.149118</td>\n",
              "    </tr>\n",
              "    <tr>\n",
              "      <th>18174</th>\n",
              "      <td>0.647832</td>\n",
              "      <td>0.242276</td>\n",
              "      <td>0.563852</td>\n",
              "    </tr>\n",
              "    <tr>\n",
              "      <th>18177</th>\n",
              "      <td>1.465839</td>\n",
              "      <td>-0.827398</td>\n",
              "      <td>0.277829</td>\n",
              "    </tr>\n",
              "    <tr>\n",
              "      <th>18178</th>\n",
              "      <td>1.043642</td>\n",
              "      <td>-0.103795</td>\n",
              "      <td>0.392238</td>\n",
              "    </tr>\n",
              "    <tr>\n",
              "      <th>18180</th>\n",
              "      <td>0.832543</td>\n",
              "      <td>-0.088065</td>\n",
              "      <td>0.406539</td>\n",
              "    </tr>\n",
              "  </tbody>\n",
              "</table>\n",
              "<p>9269 rows × 3 columns</p>\n",
              "</div>"
            ],
            "text/plain": [
              "       SinarMatahari   SuhuMin   SuhuMax\n",
              "0          -0.328499 -0.324022  0.520949\n",
              "2           0.726994 -0.607171  0.478045\n",
              "3          -0.249337  0.729921  0.449443\n",
              "6          -1.753415 -0.103795 -1.338203\n",
              "7          -0.988183  0.210815 -0.208411\n",
              "...              ...       ...       ...\n",
              "18170       0.542283  0.053510  0.149118\n",
              "18174       0.647832  0.242276  0.563852\n",
              "18177       1.465839 -0.827398  0.277829\n",
              "18178       1.043642 -0.103795  0.392238\n",
              "18180       0.832543 -0.088065  0.406539\n",
              "\n",
              "[9269 rows x 3 columns]"
            ]
          },
          "metadata": {
            "tags": []
          },
          "execution_count": 26
        }
      ]
    },
    {
      "cell_type": "markdown",
      "metadata": {
        "id": "I9Wu01x2Wzzo"
      },
      "source": [
        "# **Klasifikasi Dengan KNN**"
      ]
    },
    {
      "cell_type": "code",
      "metadata": {
        "colab": {
          "base_uri": "https://localhost:8080/"
        },
        "id": "jQyILGU5uebG",
        "outputId": "f7b97255-db4b-4da3-817b-914d8c46fc45"
      },
      "source": [
        "# Import KNN Model\n",
        "from sklearn.neighbors import KNeighborsClassifier\n",
        "model = KNeighborsClassifier(n_neighbors=27)\n",
        "model.fit(X_training,Y_Training)\n",
        "y_pred = model.predict(X_Test)\n",
        "y_pred"
      ],
      "execution_count": 27,
      "outputs": [
        {
          "output_type": "execute_result",
          "data": {
            "text/plain": [
              "array([0, 0, 0, ..., 0, 0, 0])"
            ]
          },
          "metadata": {
            "tags": []
          },
          "execution_count": 27
        }
      ]
    },
    {
      "cell_type": "code",
      "metadata": {
        "colab": {
          "base_uri": "https://localhost:8080/"
        },
        "id": "k-E7dvftLyyC",
        "outputId": "55c7f825-cc0b-4641-cda4-0c554fcecaec"
      },
      "source": [
        "#cek Hasil Kebenaran Prediksi dai Y_test\n",
        "np.array(Y_Test)"
      ],
      "execution_count": 28,
      "outputs": [
        {
          "output_type": "execute_result",
          "data": {
            "text/plain": [
              "array([0, 0, 0, ..., 0, 0, 0])"
            ]
          },
          "metadata": {
            "tags": []
          },
          "execution_count": 28
        }
      ]
    },
    {
      "cell_type": "code",
      "metadata": {
        "colab": {
          "base_uri": "https://localhost:8080/"
        },
        "id": "0lKSAnAGuixm",
        "outputId": "290e1177-a282-44a1-c54b-b50d96d3740e"
      },
      "source": [
        "#Hitung Akurasi Kebenaran Data\n",
        "from sklearn import metrics\n",
        "print('Accuracy :', metrics.accuracy_score(Y_Test,y_pred)*100)"
      ],
      "execution_count": 29,
      "outputs": [
        {
          "output_type": "stream",
          "text": [
            "Accuracy : 80.05178552163125\n"
          ],
          "name": "stdout"
        }
      ]
    },
    {
      "cell_type": "code",
      "metadata": {
        "colab": {
          "base_uri": "https://localhost:8080/"
        },
        "id": "9U1YDIz-Ovjk",
        "outputId": "123350b3-8b2e-4a04-d896-1775da3ed10a"
      },
      "source": [
        "model.predict_proba(X_Test)"
      ],
      "execution_count": 46,
      "outputs": [
        {
          "output_type": "execute_result",
          "data": {
            "text/plain": [
              "array([[0.7037037 , 0.2962963 ],\n",
              "       [1.        , 0.        ],\n",
              "       [0.77777778, 0.22222222],\n",
              "       ...,\n",
              "       [1.        , 0.        ],\n",
              "       [1.        , 0.        ],\n",
              "       [0.92592593, 0.07407407]])"
            ]
          },
          "metadata": {
            "tags": []
          },
          "execution_count": 46
        }
      ]
    },
    {
      "cell_type": "code",
      "metadata": {
        "colab": {
          "base_uri": "https://localhost:8080/"
        },
        "id": "cXR2PcZPGTMl",
        "outputId": "85e7947e-eccc-4afd-d776-a8c1071a0aa4"
      },
      "source": [
        "# import confusion_matrix model\n",
        "from sklearn.metrics import confusion_matrix\n",
        "confusion_matrix(Y_Test, y_pred)"
      ],
      "execution_count": 30,
      "outputs": [
        {
          "output_type": "execute_result",
          "data": {
            "text/plain": [
              "array([[6679,  479],\n",
              "       [1370,  741]])"
            ]
          },
          "metadata": {
            "tags": []
          },
          "execution_count": 30
        }
      ]
    },
    {
      "cell_type": "code",
      "metadata": {
        "colab": {
          "base_uri": "https://localhost:8080/",
          "height": 132
        },
        "id": "RQ9W1QDLFt5r",
        "outputId": "dff15305-9275-48e2-9841-3918c15c3636"
      },
      "source": [
        "# Merapikan hasil confusion matrix\n",
        "y_actual1 = pd.Series(Y_Test, name = 'Aktual')\n",
        "y_pred1 = pd.Series(y_pred, name = 'Prediksi')\n",
        "hasil_confusion1 = pd.crosstab(y_actual1, y_pred1)\n",
        "hasil_confusion1"
      ],
      "execution_count": 31,
      "outputs": [
        {
          "output_type": "execute_result",
          "data": {
            "text/html": [
              "<div>\n",
              "<style scoped>\n",
              "    .dataframe tbody tr th:only-of-type {\n",
              "        vertical-align: middle;\n",
              "    }\n",
              "\n",
              "    .dataframe tbody tr th {\n",
              "        vertical-align: top;\n",
              "    }\n",
              "\n",
              "    .dataframe thead th {\n",
              "        text-align: right;\n",
              "    }\n",
              "</style>\n",
              "<table border=\"1\" class=\"dataframe\">\n",
              "  <thead>\n",
              "    <tr style=\"text-align: right;\">\n",
              "      <th>Prediksi</th>\n",
              "      <th>0</th>\n",
              "      <th>1</th>\n",
              "    </tr>\n",
              "    <tr>\n",
              "      <th>Aktual</th>\n",
              "      <th></th>\n",
              "      <th></th>\n",
              "    </tr>\n",
              "  </thead>\n",
              "  <tbody>\n",
              "    <tr>\n",
              "      <th>0</th>\n",
              "      <td>6679</td>\n",
              "      <td>479</td>\n",
              "    </tr>\n",
              "    <tr>\n",
              "      <th>1</th>\n",
              "      <td>1370</td>\n",
              "      <td>741</td>\n",
              "    </tr>\n",
              "  </tbody>\n",
              "</table>\n",
              "</div>"
            ],
            "text/plain": [
              "Prediksi     0    1\n",
              "Aktual             \n",
              "0         6679  479\n",
              "1         1370  741"
            ]
          },
          "metadata": {
            "tags": []
          },
          "execution_count": 31
        }
      ]
    },
    {
      "cell_type": "code",
      "metadata": {
        "colab": {
          "base_uri": "https://localhost:8080/"
        },
        "id": "cdhfsMhKx-hQ",
        "outputId": "79067011-fb78-4d96-d1f3-13ed7ea3124a"
      },
      "source": [
        "from sklearn.metrics import classification_report\n",
        "print(classification_report(Y_Test, y_pred))"
      ],
      "execution_count": 32,
      "outputs": [
        {
          "output_type": "stream",
          "text": [
            "              precision    recall  f1-score   support\n",
            "\n",
            "           0       0.83      0.93      0.88      7158\n",
            "           1       0.61      0.35      0.44      2111\n",
            "\n",
            "    accuracy                           0.80      9269\n",
            "   macro avg       0.72      0.64      0.66      9269\n",
            "weighted avg       0.78      0.80      0.78      9269\n",
            "\n"
          ],
          "name": "stdout"
        }
      ]
    },
    {
      "cell_type": "code",
      "metadata": {
        "id": "xHPvkMr2lelf"
      },
      "source": [
        "# Simpan Prediksi Data KNN \n",
        "y_pred = pd.DataFrame((y_pred),columns=['Hasil Klasifikasi'])\n",
        "y_pred.to_csv('data hasil Klasifikasi KNN.csv')"
      ],
      "execution_count": 33,
      "outputs": []
    },
    {
      "cell_type": "markdown",
      "metadata": {
        "id": "1n0-0P2NDfoy"
      },
      "source": [
        "# **Klasifikasi Dengan Naive Bayes**"
      ]
    },
    {
      "cell_type": "code",
      "metadata": {
        "id": "8MjJ5t7PkEXE"
      },
      "source": [
        "#Import Gaussian Naive Bayes model\n",
        "from sklearn.naive_bayes import GaussianNB"
      ],
      "execution_count": 34,
      "outputs": []
    },
    {
      "cell_type": "code",
      "metadata": {
        "id": "ESpnhgzmC1JU"
      },
      "source": [
        "# Mengaktifkan/memanggil/membuat fungsi klasifikasi Naive bayes\n",
        "gnb = GaussianNB()"
      ],
      "execution_count": 35,
      "outputs": []
    },
    {
      "cell_type": "code",
      "metadata": {
        "colab": {
          "base_uri": "https://localhost:8080/"
        },
        "id": "CM8e6MxxC30s",
        "outputId": "0573c17d-88a7-4ae5-bbc3-f09a45cb877c"
      },
      "source": [
        "# Memasukkan data training pada fungsi klasifikasi naive bayes\n",
        "gnb.fit(X_training,Y_Training)"
      ],
      "execution_count": 36,
      "outputs": [
        {
          "output_type": "execute_result",
          "data": {
            "text/plain": [
              "GaussianNB(priors=None, var_smoothing=1e-09)"
            ]
          },
          "metadata": {
            "tags": []
          },
          "execution_count": 36
        }
      ]
    },
    {
      "cell_type": "code",
      "metadata": {
        "colab": {
          "base_uri": "https://localhost:8080/"
        },
        "id": "5NhnP7u2DsDP",
        "outputId": "b639bfa6-7647-491a-989e-ee8a1619efb5"
      },
      "source": [
        "# Menentukan hasil prediksi dari x_test\n",
        "y_predd = gnb.predict(X_Test)\n",
        "y_predd"
      ],
      "execution_count": 37,
      "outputs": [
        {
          "output_type": "execute_result",
          "data": {
            "text/plain": [
              "array([0, 0, 0, ..., 0, 0, 0])"
            ]
          },
          "metadata": {
            "tags": []
          },
          "execution_count": 37
        }
      ]
    },
    {
      "cell_type": "code",
      "metadata": {
        "colab": {
          "base_uri": "https://localhost:8080/"
        },
        "id": "Zq3CACOLD2H5",
        "outputId": "2ad3a91a-d1ef-4ed0-a7c9-7287eee9b4e3"
      },
      "source": [
        "#cek Hasil Kebenaran Prediksi dai Y_test\n",
        "np.array(Y_Test)"
      ],
      "execution_count": 38,
      "outputs": [
        {
          "output_type": "execute_result",
          "data": {
            "text/plain": [
              "array([0, 0, 0, ..., 0, 0, 0])"
            ]
          },
          "metadata": {
            "tags": []
          },
          "execution_count": 38
        }
      ]
    },
    {
      "cell_type": "code",
      "metadata": {
        "colab": {
          "base_uri": "https://localhost:8080/"
        },
        "id": "vY-SmNqK1XSR",
        "outputId": "2aa90405-e2fc-4a8a-c55d-f1e2895896f0"
      },
      "source": [
        "#Akurasi Kebenaran data\n",
        "from sklearn import metrics\n",
        "print('Accuracy :', metrics.accuracy_score(Y_Test,y_predd)*100)"
      ],
      "execution_count": 39,
      "outputs": [
        {
          "output_type": "stream",
          "text": [
            "Accuracy : 78.60610637609236\n"
          ],
          "name": "stdout"
        }
      ]
    },
    {
      "cell_type": "code",
      "metadata": {
        "colab": {
          "base_uri": "https://localhost:8080/"
        },
        "id": "nwcl53yi8SHj",
        "outputId": "2b7ceb60-7fc7-409a-d01a-d400bd7a5c1a"
      },
      "source": [
        "gnb.predict_proba(X_Test)"
      ],
      "execution_count": 47,
      "outputs": [
        {
          "output_type": "execute_result",
          "data": {
            "text/plain": [
              "array([[0.81413229, 0.18586771],\n",
              "       [0.94984127, 0.05015873],\n",
              "       [0.79682774, 0.20317226],\n",
              "       ...,\n",
              "       [0.98031335, 0.01968665],\n",
              "       [0.96273825, 0.03726175],\n",
              "       [0.95096301, 0.04903699]])"
            ]
          },
          "metadata": {
            "tags": []
          },
          "execution_count": 47
        }
      ]
    },
    {
      "cell_type": "code",
      "metadata": {
        "colab": {
          "base_uri": "https://localhost:8080/"
        },
        "id": "JNQZyXI78bfi",
        "outputId": "4d4534a6-9d11-47c1-eacc-434bcfa3550f"
      },
      "source": [
        "# import confusion_matrix model\n",
        "from sklearn.metrics import confusion_matrix\n",
        "confusion_matrix(Y_Test, y_predd)"
      ],
      "execution_count": 41,
      "outputs": [
        {
          "output_type": "execute_result",
          "data": {
            "text/plain": [
              "array([[6376,  782],\n",
              "       [1201,  910]])"
            ]
          },
          "metadata": {
            "tags": []
          },
          "execution_count": 41
        }
      ]
    },
    {
      "cell_type": "code",
      "metadata": {
        "colab": {
          "base_uri": "https://localhost:8080/",
          "height": 132
        },
        "id": "bjxb_wUxEMpp",
        "outputId": "fc105c82-5b69-4474-c372-6c3ef20fbc46"
      },
      "source": [
        "# Merapikan hasil confusion matrix\n",
        "y_actual1 = pd.Series(Y_Test, name = 'Actual')\n",
        "y_pred1 = pd.Series(y_predd, name = 'prediction')\n",
        "hasil_confusion2 = pd.crosstab(y_actual1, y_pred1)\n",
        "hasil_confusion2"
      ],
      "execution_count": 42,
      "outputs": [
        {
          "output_type": "execute_result",
          "data": {
            "text/html": [
              "<div>\n",
              "<style scoped>\n",
              "    .dataframe tbody tr th:only-of-type {\n",
              "        vertical-align: middle;\n",
              "    }\n",
              "\n",
              "    .dataframe tbody tr th {\n",
              "        vertical-align: top;\n",
              "    }\n",
              "\n",
              "    .dataframe thead th {\n",
              "        text-align: right;\n",
              "    }\n",
              "</style>\n",
              "<table border=\"1\" class=\"dataframe\">\n",
              "  <thead>\n",
              "    <tr style=\"text-align: right;\">\n",
              "      <th>prediction</th>\n",
              "      <th>0</th>\n",
              "      <th>1</th>\n",
              "    </tr>\n",
              "    <tr>\n",
              "      <th>Actual</th>\n",
              "      <th></th>\n",
              "      <th></th>\n",
              "    </tr>\n",
              "  </thead>\n",
              "  <tbody>\n",
              "    <tr>\n",
              "      <th>0</th>\n",
              "      <td>6376</td>\n",
              "      <td>782</td>\n",
              "    </tr>\n",
              "    <tr>\n",
              "      <th>1</th>\n",
              "      <td>1201</td>\n",
              "      <td>910</td>\n",
              "    </tr>\n",
              "  </tbody>\n",
              "</table>\n",
              "</div>"
            ],
            "text/plain": [
              "prediction     0    1\n",
              "Actual               \n",
              "0           6376  782\n",
              "1           1201  910"
            ]
          },
          "metadata": {
            "tags": []
          },
          "execution_count": 42
        }
      ]
    },
    {
      "cell_type": "code",
      "metadata": {
        "colab": {
          "base_uri": "https://localhost:8080/"
        },
        "id": "Duu3_TXM5EC7",
        "outputId": "ea557a9d-9894-4af2-fc07-e547f52c3afb"
      },
      "source": [
        "# Menghitung nilai akurasi dari klasifikasi naive bayes \n",
        "from sklearn.metrics import classification_report\n",
        "print(classification_report(Y_Test, y_predd))"
      ],
      "execution_count": 43,
      "outputs": [
        {
          "output_type": "stream",
          "text": [
            "              precision    recall  f1-score   support\n",
            "\n",
            "           0       0.84      0.89      0.87      7158\n",
            "           1       0.54      0.43      0.48      2111\n",
            "\n",
            "    accuracy                           0.79      9269\n",
            "   macro avg       0.69      0.66      0.67      9269\n",
            "weighted avg       0.77      0.79      0.78      9269\n",
            "\n"
          ],
          "name": "stdout"
        }
      ]
    },
    {
      "cell_type": "code",
      "metadata": {
        "id": "zwIg-P2iGthw"
      },
      "source": [
        "#Prediksi Data Naive Bayes\n",
        "y_predd = model.predict(X_Test)\n",
        "y_predd = pd.DataFrame((y_pred),columns=['Hasil Klasifikasi'])\n",
        "y_predd.to_csv('data hasil Klasifikasi Naive Bayes.csv')"
      ],
      "execution_count": 44,
      "outputs": []
    }
  ]
}
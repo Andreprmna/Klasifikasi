{
  "nbformat": 4,
  "nbformat_minor": 0,
  "metadata": {
    "colab": {
      "name": "Klasifikasi_Model_Minmax_(1).ipynb",
      "provenance": [],
      "collapsed_sections": []
    },
    "kernelspec": {
      "name": "python3",
      "display_name": "Python 3"
    },
    "language_info": {
      "name": "python"
    }
  },
  "cells": [
    {
      "cell_type": "code",
      "metadata": {
        "id": "xv1SRehOHnEu"
      },
      "source": [
        "#library\n",
        "import pandas as pd\n",
        "import numpy as np\n",
        "import matplotlib.pyplot as plt\n",
        "import seaborn as sns\n",
        "from sklearn.preprocessing import MinMaxScaler\n",
        "from sklearn.neighbors import KNeighborsClassifier\n",
        "from sklearn.model_selection import cross_val_score\n",
        "from sklearn import preprocessing\n",
        "from sklearn import metrics\n",
        "from sklearn.naive_bayes import GaussianNB\n",
        "import xlrd\n",
        "import xlwt"
      ],
      "execution_count": 1,
      "outputs": []
    },
    {
      "cell_type": "markdown",
      "metadata": {
        "id": "X6DoM9mWAc1u"
      },
      "source": [
        ""
      ]
    },
    {
      "cell_type": "markdown",
      "metadata": {
        "id": "bZGr6MxcWfNw"
      },
      "source": [
        "# **Data Training**"
      ]
    },
    {
      "cell_type": "code",
      "metadata": {
        "id": "3ijUDDmKAhHs"
      },
      "source": [
        "#input dataframe training\n",
        "df = pd.read_csv('salju_train.csv')"
      ],
      "execution_count": 2,
      "outputs": []
    },
    {
      "cell_type": "code",
      "metadata": {
        "colab": {
          "base_uri": "https://localhost:8080/",
          "height": 436
        },
        "id": "OTCaebw9HzgC",
        "outputId": "7a380e1b-f79c-4bba-8fd3-c1726d087988"
      },
      "source": [
        "# Mengkonfigurasi, hanya ditampilkan beberapa dataset saja \n",
        "pd.set_option('display.max_rows', 20)\n",
        "df"
      ],
      "execution_count": 3,
      "outputs": [
        {
          "output_type": "execute_result",
          "data": {
            "text/html": [
              "<div>\n",
              "<style scoped>\n",
              "    .dataframe tbody tr th:only-of-type {\n",
              "        vertical-align: middle;\n",
              "    }\n",
              "\n",
              "    .dataframe tbody tr th {\n",
              "        vertical-align: top;\n",
              "    }\n",
              "\n",
              "    .dataframe thead th {\n",
              "        text-align: right;\n",
              "    }\n",
              "</style>\n",
              "<table border=\"1\" class=\"dataframe\">\n",
              "  <thead>\n",
              "    <tr style=\"text-align: right;\">\n",
              "      <th></th>\n",
              "      <th>id</th>\n",
              "      <th>Tanggal</th>\n",
              "      <th>KodeLokasi</th>\n",
              "      <th>SuhuMin</th>\n",
              "      <th>SuhuMax</th>\n",
              "      <th>Hujan</th>\n",
              "      <th>Penguapan</th>\n",
              "      <th>SinarMatahari</th>\n",
              "      <th>ArahAnginTerkencang</th>\n",
              "      <th>KecepatanAnginTerkencang</th>\n",
              "      <th>ArahAngin9am</th>\n",
              "      <th>ArahAngin3pm</th>\n",
              "      <th>KecepatanAngin9am</th>\n",
              "      <th>KecepatanAngin3pm</th>\n",
              "      <th>Kelembaban9am</th>\n",
              "      <th>Kelembaban3pm</th>\n",
              "      <th>Tekanan9am</th>\n",
              "      <th>Tekanan3pm</th>\n",
              "      <th>Awan9am</th>\n",
              "      <th>Awan3pm</th>\n",
              "      <th>Suhu9am</th>\n",
              "      <th>Suhu3pm</th>\n",
              "      <th>BersaljuHariIni</th>\n",
              "      <th>BersaljuBesok</th>\n",
              "    </tr>\n",
              "  </thead>\n",
              "  <tbody>\n",
              "    <tr>\n",
              "      <th>0</th>\n",
              "      <td>1</td>\n",
              "      <td>01/06/2014</td>\n",
              "      <td>C4</td>\n",
              "      <td>10.4</td>\n",
              "      <td>15.5</td>\n",
              "      <td>4.8</td>\n",
              "      <td>NaN</td>\n",
              "      <td>NaN</td>\n",
              "      <td>WSW</td>\n",
              "      <td>24.0</td>\n",
              "      <td>NaN</td>\n",
              "      <td>WSW</td>\n",
              "      <td>0.0</td>\n",
              "      <td>13.0</td>\n",
              "      <td>78.0</td>\n",
              "      <td>76.0</td>\n",
              "      <td>1020.1</td>\n",
              "      <td>1018.5</td>\n",
              "      <td>NaN</td>\n",
              "      <td>NaN</td>\n",
              "      <td>13.1</td>\n",
              "      <td>15.0</td>\n",
              "      <td>Ya</td>\n",
              "      <td>Tidak</td>\n",
              "    </tr>\n",
              "    <tr>\n",
              "      <th>1</th>\n",
              "      <td>2</td>\n",
              "      <td>15/07/2014</td>\n",
              "      <td>C10</td>\n",
              "      <td>9.0</td>\n",
              "      <td>17.0</td>\n",
              "      <td>8.0</td>\n",
              "      <td>2.6</td>\n",
              "      <td>7.4</td>\n",
              "      <td>NaN</td>\n",
              "      <td>NaN</td>\n",
              "      <td>SW</td>\n",
              "      <td>WNW</td>\n",
              "      <td>13.0</td>\n",
              "      <td>20.0</td>\n",
              "      <td>80.0</td>\n",
              "      <td>61.0</td>\n",
              "      <td>1015.2</td>\n",
              "      <td>1014.6</td>\n",
              "      <td>7.0</td>\n",
              "      <td>5.0</td>\n",
              "      <td>11.9</td>\n",
              "      <td>15.5</td>\n",
              "      <td>Ya</td>\n",
              "      <td>Ya</td>\n",
              "    </tr>\n",
              "    <tr>\n",
              "      <th>2</th>\n",
              "      <td>3</td>\n",
              "      <td>16/02/2011</td>\n",
              "      <td>C46</td>\n",
              "      <td>18.2</td>\n",
              "      <td>32.0</td>\n",
              "      <td>0.0</td>\n",
              "      <td>NaN</td>\n",
              "      <td>NaN</td>\n",
              "      <td>ESE</td>\n",
              "      <td>44.0</td>\n",
              "      <td>SE</td>\n",
              "      <td>SE</td>\n",
              "      <td>15.0</td>\n",
              "      <td>26.0</td>\n",
              "      <td>62.0</td>\n",
              "      <td>42.0</td>\n",
              "      <td>NaN</td>\n",
              "      <td>NaN</td>\n",
              "      <td>NaN</td>\n",
              "      <td>NaN</td>\n",
              "      <td>23.8</td>\n",
              "      <td>29.6</td>\n",
              "      <td>Tidak</td>\n",
              "      <td>Tidak</td>\n",
              "    </tr>\n",
              "    <tr>\n",
              "      <th>3</th>\n",
              "      <td>4</td>\n",
              "      <td>08/08/2012</td>\n",
              "      <td>C36</td>\n",
              "      <td>7.3</td>\n",
              "      <td>24.5</td>\n",
              "      <td>0.0</td>\n",
              "      <td>8.4</td>\n",
              "      <td>10.4</td>\n",
              "      <td>SSW</td>\n",
              "      <td>54.0</td>\n",
              "      <td>N</td>\n",
              "      <td>SW</td>\n",
              "      <td>13.0</td>\n",
              "      <td>19.0</td>\n",
              "      <td>25.0</td>\n",
              "      <td>17.0</td>\n",
              "      <td>1019.2</td>\n",
              "      <td>1016.9</td>\n",
              "      <td>1.0</td>\n",
              "      <td>7.0</td>\n",
              "      <td>15.3</td>\n",
              "      <td>23.2</td>\n",
              "      <td>Tidak</td>\n",
              "      <td>Tidak</td>\n",
              "    </tr>\n",
              "    <tr>\n",
              "      <th>4</th>\n",
              "      <td>5</td>\n",
              "      <td>29/10/2016</td>\n",
              "      <td>C7</td>\n",
              "      <td>5.9</td>\n",
              "      <td>20.3</td>\n",
              "      <td>0.0</td>\n",
              "      <td>3.6</td>\n",
              "      <td>12.6</td>\n",
              "      <td>N</td>\n",
              "      <td>37.0</td>\n",
              "      <td>NNW</td>\n",
              "      <td>ESE</td>\n",
              "      <td>22.0</td>\n",
              "      <td>19.0</td>\n",
              "      <td>55.0</td>\n",
              "      <td>48.0</td>\n",
              "      <td>1019.7</td>\n",
              "      <td>1014.7</td>\n",
              "      <td>2.0</td>\n",
              "      <td>6.0</td>\n",
              "      <td>12.4</td>\n",
              "      <td>18.1</td>\n",
              "      <td>Tidak</td>\n",
              "      <td>Tidak</td>\n",
              "    </tr>\n",
              "    <tr>\n",
              "      <th>...</th>\n",
              "      <td>...</td>\n",
              "      <td>...</td>\n",
              "      <td>...</td>\n",
              "      <td>...</td>\n",
              "      <td>...</td>\n",
              "      <td>...</td>\n",
              "      <td>...</td>\n",
              "      <td>...</td>\n",
              "      <td>...</td>\n",
              "      <td>...</td>\n",
              "      <td>...</td>\n",
              "      <td>...</td>\n",
              "      <td>...</td>\n",
              "      <td>...</td>\n",
              "      <td>...</td>\n",
              "      <td>...</td>\n",
              "      <td>...</td>\n",
              "      <td>...</td>\n",
              "      <td>...</td>\n",
              "      <td>...</td>\n",
              "      <td>...</td>\n",
              "      <td>...</td>\n",
              "      <td>...</td>\n",
              "      <td>...</td>\n",
              "    </tr>\n",
              "    <tr>\n",
              "      <th>32409</th>\n",
              "      <td>32410</td>\n",
              "      <td>18/11/2015</td>\n",
              "      <td>C10</td>\n",
              "      <td>13.2</td>\n",
              "      <td>20.0</td>\n",
              "      <td>0.0</td>\n",
              "      <td>8.0</td>\n",
              "      <td>10.3</td>\n",
              "      <td>NaN</td>\n",
              "      <td>NaN</td>\n",
              "      <td>NW</td>\n",
              "      <td>NaN</td>\n",
              "      <td>31.0</td>\n",
              "      <td>NaN</td>\n",
              "      <td>47.0</td>\n",
              "      <td>NaN</td>\n",
              "      <td>1010.7</td>\n",
              "      <td>1011.0</td>\n",
              "      <td>6.0</td>\n",
              "      <td>NaN</td>\n",
              "      <td>18.9</td>\n",
              "      <td>NaN</td>\n",
              "      <td>Tidak</td>\n",
              "      <td>Ya</td>\n",
              "    </tr>\n",
              "    <tr>\n",
              "      <th>32410</th>\n",
              "      <td>32411</td>\n",
              "      <td>06/12/2015</td>\n",
              "      <td>C15</td>\n",
              "      <td>13.9</td>\n",
              "      <td>29.8</td>\n",
              "      <td>0.0</td>\n",
              "      <td>NaN</td>\n",
              "      <td>NaN</td>\n",
              "      <td>SE</td>\n",
              "      <td>44.0</td>\n",
              "      <td>NNE</td>\n",
              "      <td>SE</td>\n",
              "      <td>24.0</td>\n",
              "      <td>24.0</td>\n",
              "      <td>34.0</td>\n",
              "      <td>35.0</td>\n",
              "      <td>1017.0</td>\n",
              "      <td>1015.4</td>\n",
              "      <td>8.0</td>\n",
              "      <td>7.0</td>\n",
              "      <td>24.5</td>\n",
              "      <td>27.8</td>\n",
              "      <td>Tidak</td>\n",
              "      <td>Tidak</td>\n",
              "    </tr>\n",
              "    <tr>\n",
              "      <th>32411</th>\n",
              "      <td>32412</td>\n",
              "      <td>15/04/2014</td>\n",
              "      <td>C32</td>\n",
              "      <td>9.8</td>\n",
              "      <td>18.9</td>\n",
              "      <td>0.0</td>\n",
              "      <td>4.0</td>\n",
              "      <td>10.5</td>\n",
              "      <td>SE</td>\n",
              "      <td>35.0</td>\n",
              "      <td>E</td>\n",
              "      <td>ESE</td>\n",
              "      <td>13.0</td>\n",
              "      <td>13.0</td>\n",
              "      <td>67.0</td>\n",
              "      <td>54.0</td>\n",
              "      <td>1023.7</td>\n",
              "      <td>1021.3</td>\n",
              "      <td>0.0</td>\n",
              "      <td>1.0</td>\n",
              "      <td>14.7</td>\n",
              "      <td>18.3</td>\n",
              "      <td>Tidak</td>\n",
              "      <td>Tidak</td>\n",
              "    </tr>\n",
              "    <tr>\n",
              "      <th>32412</th>\n",
              "      <td>32413</td>\n",
              "      <td>17/11/2012</td>\n",
              "      <td>C24</td>\n",
              "      <td>8.7</td>\n",
              "      <td>26.5</td>\n",
              "      <td>0.2</td>\n",
              "      <td>9.6</td>\n",
              "      <td>12.0</td>\n",
              "      <td>SSE</td>\n",
              "      <td>31.0</td>\n",
              "      <td>SE</td>\n",
              "      <td>S</td>\n",
              "      <td>17.0</td>\n",
              "      <td>13.0</td>\n",
              "      <td>53.0</td>\n",
              "      <td>20.0</td>\n",
              "      <td>1017.9</td>\n",
              "      <td>1014.5</td>\n",
              "      <td>8.0</td>\n",
              "      <td>2.0</td>\n",
              "      <td>14.7</td>\n",
              "      <td>24.5</td>\n",
              "      <td>Tidak</td>\n",
              "      <td>Tidak</td>\n",
              "    </tr>\n",
              "    <tr>\n",
              "      <th>32413</th>\n",
              "      <td>32414</td>\n",
              "      <td>21/03/2012</td>\n",
              "      <td>C32</td>\n",
              "      <td>11.9</td>\n",
              "      <td>18.2</td>\n",
              "      <td>2.0</td>\n",
              "      <td>8.6</td>\n",
              "      <td>9.1</td>\n",
              "      <td>WSW</td>\n",
              "      <td>44.0</td>\n",
              "      <td>SW</td>\n",
              "      <td>SSW</td>\n",
              "      <td>17.0</td>\n",
              "      <td>17.0</td>\n",
              "      <td>64.0</td>\n",
              "      <td>40.0</td>\n",
              "      <td>1012.5</td>\n",
              "      <td>1011.9</td>\n",
              "      <td>2.0</td>\n",
              "      <td>6.0</td>\n",
              "      <td>13.5</td>\n",
              "      <td>16.8</td>\n",
              "      <td>Y</td>\n",
              "      <td>NaN</td>\n",
              "    </tr>\n",
              "  </tbody>\n",
              "</table>\n",
              "<p>32414 rows × 24 columns</p>\n",
              "</div>"
            ],
            "text/plain": [
              "          id     Tanggal KodeLokasi  ...  Suhu3pm  BersaljuHariIni  BersaljuBesok\n",
              "0          1  01/06/2014         C4  ...     15.0               Ya          Tidak\n",
              "1          2  15/07/2014        C10  ...     15.5               Ya             Ya\n",
              "2          3  16/02/2011        C46  ...     29.6            Tidak          Tidak\n",
              "3          4  08/08/2012        C36  ...     23.2            Tidak          Tidak\n",
              "4          5  29/10/2016         C7  ...     18.1            Tidak          Tidak\n",
              "...      ...         ...        ...  ...      ...              ...            ...\n",
              "32409  32410  18/11/2015        C10  ...      NaN            Tidak             Ya\n",
              "32410  32411  06/12/2015        C15  ...     27.8            Tidak          Tidak\n",
              "32411  32412  15/04/2014        C32  ...     18.3            Tidak          Tidak\n",
              "32412  32413  17/11/2012        C24  ...     24.5            Tidak          Tidak\n",
              "32413  32414  21/03/2012        C32  ...     16.8                Y            NaN\n",
              "\n",
              "[32414 rows x 24 columns]"
            ]
          },
          "metadata": {
            "tags": []
          },
          "execution_count": 3
        }
      ]
    },
    {
      "cell_type": "code",
      "metadata": {
        "colab": {
          "base_uri": "https://localhost:8080/",
          "height": 724
        },
        "id": "jin8GJnzH6sG",
        "outputId": "def9fed9-1e91-4910-d11a-7643e705308b"
      },
      "source": [
        "# Menampilkan korelasi antar atribut\n",
        "\n",
        "\n",
        "plt.figure(figsize=(15,10))\n",
        "cor = df.corr()\n",
        "sns.heatmap(cor, annot=True, cmap=plt.cm.Blues)\n",
        "plt.show()"
      ],
      "execution_count": 4,
      "outputs": [
        {
          "output_type": "display_data",
          "data": {
            "image/png": "[encoded data removed]",
            "text/plain": [
              "<Figure size 1080x720 with 2 Axes>"
            ]
          },
          "metadata": {
            "tags": [],
            "needs_background": "light"
          }
        }
      ]
    },
    {
      "cell_type": "code",
      "metadata": {
        "colab": {
          "base_uri": "https://localhost:8080/",
          "height": 416
        },
        "id": "LCPPJUj2H0yI",
        "outputId": "a931a5dd-6e07-4062-d461-9b1514e10f5e"
      },
      "source": [
        "# Melakukan copy dataframe, hanya untuk beberapa atribut yang akan digunakan\n",
        "\n",
        "prepared_data = df.loc[:,['Kelembaban3pm','Tekanan3pm','Suhu3pm','BersaljuBesok']]\n",
        "pd.set_option('display.max_rows', 20)\n",
        "prepared_data"
      ],
      "execution_count": 5,
      "outputs": [
        {
          "output_type": "execute_result",
          "data": {
            "text/html": [
              "<div>\n",
              "<style scoped>\n",
              "    .dataframe tbody tr th:only-of-type {\n",
              "        vertical-align: middle;\n",
              "    }\n",
              "\n",
              "    .dataframe tbody tr th {\n",
              "        vertical-align: top;\n",
              "    }\n",
              "\n",
              "    .dataframe thead th {\n",
              "        text-align: right;\n",
              "    }\n",
              "</style>\n",
              "<table border=\"1\" class=\"dataframe\">\n",
              "  <thead>\n",
              "    <tr style=\"text-align: right;\">\n",
              "      <th></th>\n",
              "      <th>Kelembaban3pm</th>\n",
              "      <th>Tekanan3pm</th>\n",
              "      <th>Suhu3pm</th>\n",
              "      <th>BersaljuBesok</th>\n",
              "    </tr>\n",
              "  </thead>\n",
              "  <tbody>\n",
              "    <tr>\n",
              "      <th>0</th>\n",
              "      <td>76.0</td>\n",
              "      <td>1018.5</td>\n",
              "      <td>15.0</td>\n",
              "      <td>Tidak</td>\n",
              "    </tr>\n",
              "    <tr>\n",
              "      <th>1</th>\n",
              "      <td>61.0</td>\n",
              "      <td>1014.6</td>\n",
              "      <td>15.5</td>\n",
              "      <td>Ya</td>\n",
              "    </tr>\n",
              "    <tr>\n",
              "      <th>2</th>\n",
              "      <td>42.0</td>\n",
              "      <td>NaN</td>\n",
              "      <td>29.6</td>\n",
              "      <td>Tidak</td>\n",
              "    </tr>\n",
              "    <tr>\n",
              "      <th>3</th>\n",
              "      <td>17.0</td>\n",
              "      <td>1016.9</td>\n",
              "      <td>23.2</td>\n",
              "      <td>Tidak</td>\n",
              "    </tr>\n",
              "    <tr>\n",
              "      <th>4</th>\n",
              "      <td>48.0</td>\n",
              "      <td>1014.7</td>\n",
              "      <td>18.1</td>\n",
              "      <td>Tidak</td>\n",
              "    </tr>\n",
              "    <tr>\n",
              "      <th>...</th>\n",
              "      <td>...</td>\n",
              "      <td>...</td>\n",
              "      <td>...</td>\n",
              "      <td>...</td>\n",
              "    </tr>\n",
              "    <tr>\n",
              "      <th>32409</th>\n",
              "      <td>NaN</td>\n",
              "      <td>1011.0</td>\n",
              "      <td>NaN</td>\n",
              "      <td>Ya</td>\n",
              "    </tr>\n",
              "    <tr>\n",
              "      <th>32410</th>\n",
              "      <td>35.0</td>\n",
              "      <td>1015.4</td>\n",
              "      <td>27.8</td>\n",
              "      <td>Tidak</td>\n",
              "    </tr>\n",
              "    <tr>\n",
              "      <th>32411</th>\n",
              "      <td>54.0</td>\n",
              "      <td>1021.3</td>\n",
              "      <td>18.3</td>\n",
              "      <td>Tidak</td>\n",
              "    </tr>\n",
              "    <tr>\n",
              "      <th>32412</th>\n",
              "      <td>20.0</td>\n",
              "      <td>1014.5</td>\n",
              "      <td>24.5</td>\n",
              "      <td>Tidak</td>\n",
              "    </tr>\n",
              "    <tr>\n",
              "      <th>32413</th>\n",
              "      <td>40.0</td>\n",
              "      <td>1011.9</td>\n",
              "      <td>16.8</td>\n",
              "      <td>NaN</td>\n",
              "    </tr>\n",
              "  </tbody>\n",
              "</table>\n",
              "<p>32414 rows × 4 columns</p>\n",
              "</div>"
            ],
            "text/plain": [
              "       Kelembaban3pm  Tekanan3pm  Suhu3pm BersaljuBesok\n",
              "0               76.0      1018.5     15.0         Tidak\n",
              "1               61.0      1014.6     15.5            Ya\n",
              "2               42.0         NaN     29.6         Tidak\n",
              "3               17.0      1016.9     23.2         Tidak\n",
              "4               48.0      1014.7     18.1         Tidak\n",
              "...              ...         ...      ...           ...\n",
              "32409            NaN      1011.0      NaN            Ya\n",
              "32410           35.0      1015.4     27.8         Tidak\n",
              "32411           54.0      1021.3     18.3         Tidak\n",
              "32412           20.0      1014.5     24.5         Tidak\n",
              "32413           40.0      1011.9     16.8           NaN\n",
              "\n",
              "[32414 rows x 4 columns]"
            ]
          },
          "metadata": {
            "tags": []
          },
          "execution_count": 5
        }
      ]
    },
    {
      "cell_type": "code",
      "metadata": {
        "colab": {
          "base_uri": "https://localhost:8080/",
          "height": 416
        },
        "id": "KOkq3vM2IMhg",
        "outputId": "9f9bbb11-7842-4f01-b51b-2d83246085ec"
      },
      "source": [
        "# Menghilangkan missing data dan data yang redundant\n",
        "\n",
        "prepared_data = prepared_data.dropna()\n",
        "prepared_data = prepared_data.drop_duplicates(keep='first')\n",
        "prepared_data"
      ],
      "execution_count": 6,
      "outputs": [
        {
          "output_type": "execute_result",
          "data": {
            "text/html": [
              "<div>\n",
              "<style scoped>\n",
              "    .dataframe tbody tr th:only-of-type {\n",
              "        vertical-align: middle;\n",
              "    }\n",
              "\n",
              "    .dataframe tbody tr th {\n",
              "        vertical-align: top;\n",
              "    }\n",
              "\n",
              "    .dataframe thead th {\n",
              "        text-align: right;\n",
              "    }\n",
              "</style>\n",
              "<table border=\"1\" class=\"dataframe\">\n",
              "  <thead>\n",
              "    <tr style=\"text-align: right;\">\n",
              "      <th></th>\n",
              "      <th>Kelembaban3pm</th>\n",
              "      <th>Tekanan3pm</th>\n",
              "      <th>Suhu3pm</th>\n",
              "      <th>BersaljuBesok</th>\n",
              "    </tr>\n",
              "  </thead>\n",
              "  <tbody>\n",
              "    <tr>\n",
              "      <th>0</th>\n",
              "      <td>76.0</td>\n",
              "      <td>1018.5</td>\n",
              "      <td>15.0</td>\n",
              "      <td>Tidak</td>\n",
              "    </tr>\n",
              "    <tr>\n",
              "      <th>1</th>\n",
              "      <td>61.0</td>\n",
              "      <td>1014.6</td>\n",
              "      <td>15.5</td>\n",
              "      <td>Ya</td>\n",
              "    </tr>\n",
              "    <tr>\n",
              "      <th>3</th>\n",
              "      <td>17.0</td>\n",
              "      <td>1016.9</td>\n",
              "      <td>23.2</td>\n",
              "      <td>Tidak</td>\n",
              "    </tr>\n",
              "    <tr>\n",
              "      <th>4</th>\n",
              "      <td>48.0</td>\n",
              "      <td>1014.7</td>\n",
              "      <td>18.1</td>\n",
              "      <td>Tidak</td>\n",
              "    </tr>\n",
              "    <tr>\n",
              "      <th>5</th>\n",
              "      <td>52.0</td>\n",
              "      <td>1012.5</td>\n",
              "      <td>21.1</td>\n",
              "      <td>Tidak</td>\n",
              "    </tr>\n",
              "    <tr>\n",
              "      <th>...</th>\n",
              "      <td>...</td>\n",
              "      <td>...</td>\n",
              "      <td>...</td>\n",
              "      <td>...</td>\n",
              "    </tr>\n",
              "    <tr>\n",
              "      <th>32406</th>\n",
              "      <td>35.0</td>\n",
              "      <td>1003.2</td>\n",
              "      <td>31.0</td>\n",
              "      <td>Tidak</td>\n",
              "    </tr>\n",
              "    <tr>\n",
              "      <th>32407</th>\n",
              "      <td>60.0</td>\n",
              "      <td>1020.9</td>\n",
              "      <td>12.6</td>\n",
              "      <td>Tidak</td>\n",
              "    </tr>\n",
              "    <tr>\n",
              "      <th>32410</th>\n",
              "      <td>35.0</td>\n",
              "      <td>1015.4</td>\n",
              "      <td>27.8</td>\n",
              "      <td>Tidak</td>\n",
              "    </tr>\n",
              "    <tr>\n",
              "      <th>32411</th>\n",
              "      <td>54.0</td>\n",
              "      <td>1021.3</td>\n",
              "      <td>18.3</td>\n",
              "      <td>Tidak</td>\n",
              "    </tr>\n",
              "    <tr>\n",
              "      <th>32412</th>\n",
              "      <td>20.0</td>\n",
              "      <td>1014.5</td>\n",
              "      <td>24.5</td>\n",
              "      <td>Tidak</td>\n",
              "    </tr>\n",
              "  </tbody>\n",
              "</table>\n",
              "<p>27906 rows × 4 columns</p>\n",
              "</div>"
            ],
            "text/plain": [
              "       Kelembaban3pm  Tekanan3pm  Suhu3pm BersaljuBesok\n",
              "0               76.0      1018.5     15.0         Tidak\n",
              "1               61.0      1014.6     15.5            Ya\n",
              "3               17.0      1016.9     23.2         Tidak\n",
              "4               48.0      1014.7     18.1         Tidak\n",
              "5               52.0      1012.5     21.1         Tidak\n",
              "...              ...         ...      ...           ...\n",
              "32406           35.0      1003.2     31.0         Tidak\n",
              "32407           60.0      1020.9     12.6         Tidak\n",
              "32410           35.0      1015.4     27.8         Tidak\n",
              "32411           54.0      1021.3     18.3         Tidak\n",
              "32412           20.0      1014.5     24.5         Tidak\n",
              "\n",
              "[27906 rows x 4 columns]"
            ]
          },
          "metadata": {
            "tags": []
          },
          "execution_count": 6
        }
      ]
    },
    {
      "cell_type": "code",
      "metadata": {
        "colab": {
          "base_uri": "https://localhost:8080/",
          "height": 296
        },
        "id": "_xKIG30bIPAx",
        "outputId": "330c8f5d-2b30-426c-d100-b6dc0edef3b0"
      },
      "source": [
        "sns.boxplot(x=prepared_data['Kelembaban3pm'])"
      ],
      "execution_count": 7,
      "outputs": [
        {
          "output_type": "execute_result",
          "data": {
            "text/plain": [
              "<matplotlib.axes._subplots.AxesSubplot at 0x7fcca7ba4650>"
            ]
          },
          "metadata": {
            "tags": []
          },
          "execution_count": 7
        },
        {
          "output_type": "display_data",
          "data": {
            "image/png": "[encoded data removed]",
            "text/plain": [
              "<Figure size 432x288 with 1 Axes>"
            ]
          },
          "metadata": {
            "tags": [],
            "needs_background": "light"
          }
        }
      ]
    },
    {
      "cell_type": "code",
      "metadata": {
        "colab": {
          "base_uri": "https://localhost:8080/",
          "height": 296
        },
        "id": "6KEwipC1IWbP",
        "outputId": "54e16ac3-57f2-417c-87fa-b897149a6080"
      },
      "source": [
        "sns.boxplot(x=prepared_data['Tekanan3pm'])"
      ],
      "execution_count": 8,
      "outputs": [
        {
          "output_type": "execute_result",
          "data": {
            "text/plain": [
              "<matplotlib.axes._subplots.AxesSubplot at 0x7fccaa6798d0>"
            ]
          },
          "metadata": {
            "tags": []
          },
          "execution_count": 8
        },
        {
          "output_type": "display_data",
          "data": {
            "image/png": "[encoded data removed]",
            "text/plain": [
              "<Figure size 432x288 with 1 Axes>"
            ]
          },
          "metadata": {
            "tags": [],
            "needs_background": "light"
          }
        }
      ]
    },
    {
      "cell_type": "code",
      "metadata": {
        "colab": {
          "base_uri": "https://localhost:8080/",
          "height": 296
        },
        "id": "XyD2ArVrIYTY",
        "outputId": "9fb08b89-ba02-4439-e5fc-425df8afc847"
      },
      "source": [
        "sns.boxplot(x=prepared_data['Suhu3pm'])"
      ],
      "execution_count": 9,
      "outputs": [
        {
          "output_type": "execute_result",
          "data": {
            "text/plain": [
              "<matplotlib.axes._subplots.AxesSubplot at 0x7fcca7af5290>"
            ]
          },
          "metadata": {
            "tags": []
          },
          "execution_count": 9
        },
        {
          "output_type": "display_data",
          "data": {
            "image/png": "[encoded data removed]",
            "text/plain": [
              "<Figure size 432x288 with 1 Axes>"
            ]
          },
          "metadata": {
            "tags": [],
            "needs_background": "light"
          }
        }
      ]
    },
    {
      "cell_type": "code",
      "metadata": {
        "colab": {
          "base_uri": "https://localhost:8080/",
          "height": 295
        },
        "id": "yPG0aUW3IfYJ",
        "outputId": "de1aec36-96df-4a0a-e15b-3394a4a102d9"
      },
      "source": [
        "# Menghilangkan data Quartil/outlers Fitur Penguapan\n",
        "Q1 = prepared_data['Kelembaban3pm'].quantile(0.25)\n",
        "Q3 = prepared_data['Kelembaban3pm'].quantile(0.75)\n",
        "IQR = Q3 - Q1    \n",
        "\n",
        "filter = (prepared_data['Kelembaban3pm'] >= Q1 - 1.5 * IQR) & (prepared_data['Kelembaban3pm'] <= Q3 + 1.5 *IQR)\n",
        "prepared_data = prepared_data.loc[filter] \n",
        "sns.boxplot(x=prepared_data['Kelembaban3pm'])"
      ],
      "execution_count": null,
      "outputs": [
        {
          "output_type": "execute_result",
          "data": {
            "text/plain": [
              "<matplotlib.axes._subplots.AxesSubplot at 0x7fb25523bb90>"
            ]
          },
          "metadata": {
            "tags": []
          },
          "execution_count": 10
        },
        {
          "output_type": "display_data",
          "data": {
            "image/png": "[encoded data removed]",
            "text/plain": [
              "<Figure size 432x288 with 1 Axes>"
            ]
          },
          "metadata": {
            "tags": [],
            "needs_background": "light"
          }
        }
      ]
    },
    {
      "cell_type": "code",
      "metadata": {
        "colab": {
          "base_uri": "https://localhost:8080/",
          "height": 295
        },
        "id": "cE1__NDzIlzw",
        "outputId": "80a9cc85-db72-4659-f14f-264cf254f7d0"
      },
      "source": [
        "# Menghilangkan data Quartil/outlers Fitur Suhu Min\n",
        "Q1 = prepared_data['Tekanan3pm'].quantile(0.25)\n",
        "Q3 = prepared_data['Tekanan3pm'].quantile(0.75)\n",
        "IQR = Q3 - Q1    \n",
        "\n",
        "filter = (prepared_data['Tekanan3pm'] >= Q1 - 1.5 * IQR) & (prepared_data['Tekanan3pm'] <= Q3 + 1.5 *IQR)\n",
        "prepared_data = prepared_data.loc[filter] \n",
        "sns.boxplot(x=prepared_data['Tekanan3pm'])"
      ],
      "execution_count": null,
      "outputs": [
        {
          "output_type": "execute_result",
          "data": {
            "text/plain": [
              "<matplotlib.axes._subplots.AxesSubplot at 0x7fb2551b9dd0>"
            ]
          },
          "metadata": {
            "tags": []
          },
          "execution_count": 11
        },
        {
          "output_type": "display_data",
          "data": {
            "image/png": "[encoded data removed]",
            "text/plain": [
              "<Figure size 432x288 with 1 Axes>"
            ]
          },
          "metadata": {
            "tags": [],
            "needs_background": "light"
          }
        }
      ]
    },
    {
      "cell_type": "code",
      "metadata": {
        "colab": {
          "base_uri": "https://localhost:8080/",
          "height": 296
        },
        "id": "0Mn2ETGzIxle",
        "outputId": "1defb623-eadb-4a0a-d76c-8db2e0b56d5f"
      },
      "source": [
        "# Menghilangkan data Quartil/outlers Fitur Suhu Max\n",
        "Q1 = prepared_data['Suhu3pm'].quantile(0.25)\n",
        "Q3 = prepared_data['Suhu3pm'].quantile(0.75)\n",
        "IQR = Q3 - Q1    \n",
        "\n",
        "filter = (prepared_data['Suhu3pm'] >= Q1 - 1.5 * IQR) & (prepared_data['Suhu3pm'] <= Q3 + 1.5 *IQR)\n",
        "prepared_data = prepared_data.loc[filter] \n",
        "sns.boxplot(x=prepared_data['Suhu3pm'])"
      ],
      "execution_count": 10,
      "outputs": [
        {
          "output_type": "execute_result",
          "data": {
            "text/plain": [
              "<matplotlib.axes._subplots.AxesSubplot at 0x7fcca7ad5a10>"
            ]
          },
          "metadata": {
            "tags": []
          },
          "execution_count": 10
        },
        {
          "output_type": "display_data",
          "data": {
            "image/png": "[encoded data removed]",
            "text/plain": [
              "<Figure size 432x288 with 1 Axes>"
            ]
          },
          "metadata": {
            "tags": [],
            "needs_background": "light"
          }
        }
      ]
    },
    {
      "cell_type": "code",
      "metadata": {
        "colab": {
          "base_uri": "https://localhost:8080/",
          "height": 416
        },
        "id": "tn81wDmaI67J",
        "outputId": "1c128c87-1258-418a-b1b5-63f524c7b2ec"
      },
      "source": [
        "prepared_data = prepared_data.reset_index(drop=True)\n",
        "prepared_data\n"
      ],
      "execution_count": 11,
      "outputs": [
        {
          "output_type": "execute_result",
          "data": {
            "text/html": [
              "<div>\n",
              "<style scoped>\n",
              "    .dataframe tbody tr th:only-of-type {\n",
              "        vertical-align: middle;\n",
              "    }\n",
              "\n",
              "    .dataframe tbody tr th {\n",
              "        vertical-align: top;\n",
              "    }\n",
              "\n",
              "    .dataframe thead th {\n",
              "        text-align: right;\n",
              "    }\n",
              "</style>\n",
              "<table border=\"1\" class=\"dataframe\">\n",
              "  <thead>\n",
              "    <tr style=\"text-align: right;\">\n",
              "      <th></th>\n",
              "      <th>Kelembaban3pm</th>\n",
              "      <th>Tekanan3pm</th>\n",
              "      <th>Suhu3pm</th>\n",
              "      <th>BersaljuBesok</th>\n",
              "    </tr>\n",
              "  </thead>\n",
              "  <tbody>\n",
              "    <tr>\n",
              "      <th>0</th>\n",
              "      <td>76.0</td>\n",
              "      <td>1018.5</td>\n",
              "      <td>15.0</td>\n",
              "      <td>Tidak</td>\n",
              "    </tr>\n",
              "    <tr>\n",
              "      <th>1</th>\n",
              "      <td>61.0</td>\n",
              "      <td>1014.6</td>\n",
              "      <td>15.5</td>\n",
              "      <td>Ya</td>\n",
              "    </tr>\n",
              "    <tr>\n",
              "      <th>2</th>\n",
              "      <td>17.0</td>\n",
              "      <td>1016.9</td>\n",
              "      <td>23.2</td>\n",
              "      <td>Tidak</td>\n",
              "    </tr>\n",
              "    <tr>\n",
              "      <th>3</th>\n",
              "      <td>48.0</td>\n",
              "      <td>1014.7</td>\n",
              "      <td>18.1</td>\n",
              "      <td>Tidak</td>\n",
              "    </tr>\n",
              "    <tr>\n",
              "      <th>4</th>\n",
              "      <td>52.0</td>\n",
              "      <td>1012.5</td>\n",
              "      <td>21.1</td>\n",
              "      <td>Tidak</td>\n",
              "    </tr>\n",
              "    <tr>\n",
              "      <th>...</th>\n",
              "      <td>...</td>\n",
              "      <td>...</td>\n",
              "      <td>...</td>\n",
              "      <td>...</td>\n",
              "    </tr>\n",
              "    <tr>\n",
              "      <th>27832</th>\n",
              "      <td>35.0</td>\n",
              "      <td>1003.2</td>\n",
              "      <td>31.0</td>\n",
              "      <td>Tidak</td>\n",
              "    </tr>\n",
              "    <tr>\n",
              "      <th>27833</th>\n",
              "      <td>60.0</td>\n",
              "      <td>1020.9</td>\n",
              "      <td>12.6</td>\n",
              "      <td>Tidak</td>\n",
              "    </tr>\n",
              "    <tr>\n",
              "      <th>27834</th>\n",
              "      <td>35.0</td>\n",
              "      <td>1015.4</td>\n",
              "      <td>27.8</td>\n",
              "      <td>Tidak</td>\n",
              "    </tr>\n",
              "    <tr>\n",
              "      <th>27835</th>\n",
              "      <td>54.0</td>\n",
              "      <td>1021.3</td>\n",
              "      <td>18.3</td>\n",
              "      <td>Tidak</td>\n",
              "    </tr>\n",
              "    <tr>\n",
              "      <th>27836</th>\n",
              "      <td>20.0</td>\n",
              "      <td>1014.5</td>\n",
              "      <td>24.5</td>\n",
              "      <td>Tidak</td>\n",
              "    </tr>\n",
              "  </tbody>\n",
              "</table>\n",
              "<p>27837 rows × 4 columns</p>\n",
              "</div>"
            ],
            "text/plain": [
              "       Kelembaban3pm  Tekanan3pm  Suhu3pm BersaljuBesok\n",
              "0               76.0      1018.5     15.0         Tidak\n",
              "1               61.0      1014.6     15.5            Ya\n",
              "2               17.0      1016.9     23.2         Tidak\n",
              "3               48.0      1014.7     18.1         Tidak\n",
              "4               52.0      1012.5     21.1         Tidak\n",
              "...              ...         ...      ...           ...\n",
              "27832           35.0      1003.2     31.0         Tidak\n",
              "27833           60.0      1020.9     12.6         Tidak\n",
              "27834           35.0      1015.4     27.8         Tidak\n",
              "27835           54.0      1021.3     18.3         Tidak\n",
              "27836           20.0      1014.5     24.5         Tidak\n",
              "\n",
              "[27837 rows x 4 columns]"
            ]
          },
          "metadata": {
            "tags": []
          },
          "execution_count": 11
        }
      ]
    },
    {
      "cell_type": "code",
      "metadata": {
        "colab": {
          "base_uri": "https://localhost:8080/"
        },
        "id": "LQPLu1LUI-ZG",
        "outputId": "07c56624-93b8-49aa-bc56-a8d4ed181ec1"
      },
      "source": [
        "#Memisahkan Target Kelas\n",
        "labelencoder = preprocessing.LabelEncoder()\n",
        "\n",
        "prepared_data['BersaljuBesok'] = labelencoder.fit_transform(prepared_data['BersaljuBesok'])\n",
        "\n",
        "prepared_data\n",
        "Y_Training = prepared_data['BersaljuBesok'].values\n",
        "print(Y_Training)"
      ],
      "execution_count": 12,
      "outputs": [
        {
          "output_type": "stream",
          "text": [
            "[0 1 0 ... 0 0 0]\n"
          ],
          "name": "stdout"
        }
      ]
    },
    {
      "cell_type": "code",
      "metadata": {
        "id": "nRLYPq0vMrVo"
      },
      "source": [
        "prepared_data = prepared_data.drop(columns=['BersaljuBesok']) "
      ],
      "execution_count": 13,
      "outputs": []
    },
    {
      "cell_type": "code",
      "metadata": {
        "colab": {
          "base_uri": "https://localhost:8080/",
          "height": 416
        },
        "id": "Y6UQsmrCJi_Z",
        "outputId": "74652077-7b2b-4e23-bbd5-904ba2ef2a5d"
      },
      "source": [
        "#Data Sebelum Normalisasi\n",
        "prepared_data"
      ],
      "execution_count": 14,
      "outputs": [
        {
          "output_type": "execute_result",
          "data": {
            "text/html": [
              "<div>\n",
              "<style scoped>\n",
              "    .dataframe tbody tr th:only-of-type {\n",
              "        vertical-align: middle;\n",
              "    }\n",
              "\n",
              "    .dataframe tbody tr th {\n",
              "        vertical-align: top;\n",
              "    }\n",
              "\n",
              "    .dataframe thead th {\n",
              "        text-align: right;\n",
              "    }\n",
              "</style>\n",
              "<table border=\"1\" class=\"dataframe\">\n",
              "  <thead>\n",
              "    <tr style=\"text-align: right;\">\n",
              "      <th></th>\n",
              "      <th>Kelembaban3pm</th>\n",
              "      <th>Tekanan3pm</th>\n",
              "      <th>Suhu3pm</th>\n",
              "    </tr>\n",
              "  </thead>\n",
              "  <tbody>\n",
              "    <tr>\n",
              "      <th>0</th>\n",
              "      <td>76.0</td>\n",
              "      <td>1018.5</td>\n",
              "      <td>15.0</td>\n",
              "    </tr>\n",
              "    <tr>\n",
              "      <th>1</th>\n",
              "      <td>61.0</td>\n",
              "      <td>1014.6</td>\n",
              "      <td>15.5</td>\n",
              "    </tr>\n",
              "    <tr>\n",
              "      <th>2</th>\n",
              "      <td>17.0</td>\n",
              "      <td>1016.9</td>\n",
              "      <td>23.2</td>\n",
              "    </tr>\n",
              "    <tr>\n",
              "      <th>3</th>\n",
              "      <td>48.0</td>\n",
              "      <td>1014.7</td>\n",
              "      <td>18.1</td>\n",
              "    </tr>\n",
              "    <tr>\n",
              "      <th>4</th>\n",
              "      <td>52.0</td>\n",
              "      <td>1012.5</td>\n",
              "      <td>21.1</td>\n",
              "    </tr>\n",
              "    <tr>\n",
              "      <th>...</th>\n",
              "      <td>...</td>\n",
              "      <td>...</td>\n",
              "      <td>...</td>\n",
              "    </tr>\n",
              "    <tr>\n",
              "      <th>27832</th>\n",
              "      <td>35.0</td>\n",
              "      <td>1003.2</td>\n",
              "      <td>31.0</td>\n",
              "    </tr>\n",
              "    <tr>\n",
              "      <th>27833</th>\n",
              "      <td>60.0</td>\n",
              "      <td>1020.9</td>\n",
              "      <td>12.6</td>\n",
              "    </tr>\n",
              "    <tr>\n",
              "      <th>27834</th>\n",
              "      <td>35.0</td>\n",
              "      <td>1015.4</td>\n",
              "      <td>27.8</td>\n",
              "    </tr>\n",
              "    <tr>\n",
              "      <th>27835</th>\n",
              "      <td>54.0</td>\n",
              "      <td>1021.3</td>\n",
              "      <td>18.3</td>\n",
              "    </tr>\n",
              "    <tr>\n",
              "      <th>27836</th>\n",
              "      <td>20.0</td>\n",
              "      <td>1014.5</td>\n",
              "      <td>24.5</td>\n",
              "    </tr>\n",
              "  </tbody>\n",
              "</table>\n",
              "<p>27837 rows × 3 columns</p>\n",
              "</div>"
            ],
            "text/plain": [
              "       Kelembaban3pm  Tekanan3pm  Suhu3pm\n",
              "0               76.0      1018.5     15.0\n",
              "1               61.0      1014.6     15.5\n",
              "2               17.0      1016.9     23.2\n",
              "3               48.0      1014.7     18.1\n",
              "4               52.0      1012.5     21.1\n",
              "...              ...         ...      ...\n",
              "27832           35.0      1003.2     31.0\n",
              "27833           60.0      1020.9     12.6\n",
              "27834           35.0      1015.4     27.8\n",
              "27835           54.0      1021.3     18.3\n",
              "27836           20.0      1014.5     24.5\n",
              "\n",
              "[27837 rows x 3 columns]"
            ]
          },
          "metadata": {
            "tags": []
          },
          "execution_count": 14
        }
      ]
    },
    {
      "cell_type": "code",
      "metadata": {
        "colab": {
          "base_uri": "https://localhost:8080/"
        },
        "id": "LAUSQ93uJxcW",
        "outputId": "631bb873-0c4c-44e2-b07f-83471613fd30"
      },
      "source": [
        "data = prepared_data\n",
        "scaler = MinMaxScaler()\n",
        "print(scaler.fit(data))"
      ],
      "execution_count": 15,
      "outputs": [
        {
          "output_type": "stream",
          "text": [
            "MinMaxScaler(copy=True, feature_range=(0, 1))\n"
          ],
          "name": "stdout"
        }
      ]
    },
    {
      "cell_type": "code",
      "metadata": {
        "colab": {
          "base_uri": "https://localhost:8080/"
        },
        "id": "4M2EdgIVJ1Qc",
        "outputId": "bfec9f36-bdc2-44a7-9a9d-0b5a419c5536"
      },
      "source": [
        "X_training =scaler.transform(data)\n",
        "print(X_training)"
      ],
      "execution_count": 16,
      "outputs": [
        {
          "output_type": "stream",
          "text": [
            "[[0.76       0.66841187 0.31052632]\n",
            " [0.61       0.60034904 0.32368421]\n",
            " [0.17       0.64048866 0.52631579]\n",
            " ...\n",
            " [0.35       0.61431065 0.64736842]\n",
            " [0.54       0.71727749 0.39736842]\n",
            " [0.2        0.59860384 0.56052632]]\n"
          ],
          "name": "stdout"
        }
      ]
    },
    {
      "cell_type": "markdown",
      "metadata": {
        "id": "kugDeLuNW8Nt"
      },
      "source": [
        "# **Data Testing**"
      ]
    },
    {
      "cell_type": "code",
      "metadata": {
        "colab": {
          "base_uri": "https://localhost:8080/",
          "height": 436
        },
        "id": "uXmc8Ty1W2lV",
        "outputId": "46d80a7e-5fa2-475a-c897-909ddee8f23b"
      },
      "source": [
        "# Membaca dataset testing Salju dan memasukannya kedalam data frame\n",
        "dftest = pd.read_csv('salju_test.csv')\n",
        "# Mengkonfigurasi, hanya ditampilkan beberapa dataset saja \n",
        "pd.set_option('display.max_rows', 20)\n",
        "dftest"
      ],
      "execution_count": 17,
      "outputs": [
        {
          "output_type": "execute_result",
          "data": {
            "text/html": [
              "<div>\n",
              "<style scoped>\n",
              "    .dataframe tbody tr th:only-of-type {\n",
              "        vertical-align: middle;\n",
              "    }\n",
              "\n",
              "    .dataframe tbody tr th {\n",
              "        vertical-align: top;\n",
              "    }\n",
              "\n",
              "    .dataframe thead th {\n",
              "        text-align: right;\n",
              "    }\n",
              "</style>\n",
              "<table border=\"1\" class=\"dataframe\">\n",
              "  <thead>\n",
              "    <tr style=\"text-align: right;\">\n",
              "      <th></th>\n",
              "      <th>Tanggal</th>\n",
              "      <th>KodeLokasi</th>\n",
              "      <th>SuhuMin</th>\n",
              "      <th>SuhuMax</th>\n",
              "      <th>Hujan</th>\n",
              "      <th>Penguapan</th>\n",
              "      <th>SinarMatahari</th>\n",
              "      <th>ArahAnginTerkencang</th>\n",
              "      <th>KecepatanAnginTerkencang</th>\n",
              "      <th>ArahAngin9am</th>\n",
              "      <th>ArahAngin3pm</th>\n",
              "      <th>KecepatanAngin9am</th>\n",
              "      <th>KecepatanAngin3pm</th>\n",
              "      <th>Kelembaban9am</th>\n",
              "      <th>Kelembaban3pm</th>\n",
              "      <th>Tekanan9am</th>\n",
              "      <th>Tekanan3pm</th>\n",
              "      <th>Awan9am</th>\n",
              "      <th>Awan3pm</th>\n",
              "      <th>Suhu9am</th>\n",
              "      <th>Suhu3pm</th>\n",
              "      <th>BersaljuHariIni</th>\n",
              "      <th>BersaljuBesok</th>\n",
              "    </tr>\n",
              "  </thead>\n",
              "  <tbody>\n",
              "    <tr>\n",
              "      <th>0</th>\n",
              "      <td>04/11/2010</td>\n",
              "      <td>C39</td>\n",
              "      <td>11.0</td>\n",
              "      <td>27.5</td>\n",
              "      <td>0.0</td>\n",
              "      <td>NaN</td>\n",
              "      <td>6.4</td>\n",
              "      <td>WSW</td>\n",
              "      <td>46.0</td>\n",
              "      <td>W</td>\n",
              "      <td>W</td>\n",
              "      <td>20.0</td>\n",
              "      <td>28.0</td>\n",
              "      <td>39.0</td>\n",
              "      <td>56.0</td>\n",
              "      <td>1013.0</td>\n",
              "      <td>1012.4</td>\n",
              "      <td>4.0</td>\n",
              "      <td>7.0</td>\n",
              "      <td>25.7</td>\n",
              "      <td>23.6</td>\n",
              "      <td>No</td>\n",
              "      <td>No</td>\n",
              "    </tr>\n",
              "    <tr>\n",
              "      <th>1</th>\n",
              "      <td>26/03/2015</td>\n",
              "      <td>C35</td>\n",
              "      <td>10.0</td>\n",
              "      <td>19.9</td>\n",
              "      <td>0.2</td>\n",
              "      <td>NaN</td>\n",
              "      <td>NaN</td>\n",
              "      <td>WNW</td>\n",
              "      <td>56.0</td>\n",
              "      <td>W</td>\n",
              "      <td>NW</td>\n",
              "      <td>24.0</td>\n",
              "      <td>33.0</td>\n",
              "      <td>76.0</td>\n",
              "      <td>32.0</td>\n",
              "      <td>1017.0</td>\n",
              "      <td>1015.2</td>\n",
              "      <td>8.0</td>\n",
              "      <td>1.0</td>\n",
              "      <td>10.7</td>\n",
              "      <td>18.9</td>\n",
              "      <td>No</td>\n",
              "      <td>Yes</td>\n",
              "    </tr>\n",
              "    <tr>\n",
              "      <th>2</th>\n",
              "      <td>22/03/2016</td>\n",
              "      <td>C18</td>\n",
              "      <td>9.2</td>\n",
              "      <td>27.2</td>\n",
              "      <td>0.0</td>\n",
              "      <td>5.2</td>\n",
              "      <td>10.4</td>\n",
              "      <td>SSW</td>\n",
              "      <td>33.0</td>\n",
              "      <td>NE</td>\n",
              "      <td>N</td>\n",
              "      <td>13.0</td>\n",
              "      <td>19.0</td>\n",
              "      <td>89.0</td>\n",
              "      <td>27.0</td>\n",
              "      <td>1018.6</td>\n",
              "      <td>1015.7</td>\n",
              "      <td>0.0</td>\n",
              "      <td>1.0</td>\n",
              "      <td>13.9</td>\n",
              "      <td>26.3</td>\n",
              "      <td>No</td>\n",
              "      <td>No</td>\n",
              "    </tr>\n",
              "    <tr>\n",
              "      <th>3</th>\n",
              "      <td>09/12/2011</td>\n",
              "      <td>C31</td>\n",
              "      <td>17.7</td>\n",
              "      <td>27.0</td>\n",
              "      <td>0.0</td>\n",
              "      <td>4.6</td>\n",
              "      <td>6.7</td>\n",
              "      <td>SW</td>\n",
              "      <td>35.0</td>\n",
              "      <td>E</td>\n",
              "      <td>SSE</td>\n",
              "      <td>20.0</td>\n",
              "      <td>15.0</td>\n",
              "      <td>55.0</td>\n",
              "      <td>41.0</td>\n",
              "      <td>1010.2</td>\n",
              "      <td>1008.6</td>\n",
              "      <td>7.0</td>\n",
              "      <td>6.0</td>\n",
              "      <td>22.3</td>\n",
              "      <td>26.4</td>\n",
              "      <td>No</td>\n",
              "      <td>No</td>\n",
              "    </tr>\n",
              "    <tr>\n",
              "      <th>4</th>\n",
              "      <td>20/05/2017</td>\n",
              "      <td>C14</td>\n",
              "      <td>2.3</td>\n",
              "      <td>7.9</td>\n",
              "      <td>88.0</td>\n",
              "      <td>NaN</td>\n",
              "      <td>NaN</td>\n",
              "      <td>NW</td>\n",
              "      <td>46.0</td>\n",
              "      <td>W</td>\n",
              "      <td>WNW</td>\n",
              "      <td>13.0</td>\n",
              "      <td>9.0</td>\n",
              "      <td>98.0</td>\n",
              "      <td>95.0</td>\n",
              "      <td>NaN</td>\n",
              "      <td>NaN</td>\n",
              "      <td>NaN</td>\n",
              "      <td>NaN</td>\n",
              "      <td>4.4</td>\n",
              "      <td>6.0</td>\n",
              "      <td>Yes</td>\n",
              "      <td>No</td>\n",
              "    </tr>\n",
              "    <tr>\n",
              "      <th>...</th>\n",
              "      <td>...</td>\n",
              "      <td>...</td>\n",
              "      <td>...</td>\n",
              "      <td>...</td>\n",
              "      <td>...</td>\n",
              "      <td>...</td>\n",
              "      <td>...</td>\n",
              "      <td>...</td>\n",
              "      <td>...</td>\n",
              "      <td>...</td>\n",
              "      <td>...</td>\n",
              "      <td>...</td>\n",
              "      <td>...</td>\n",
              "      <td>...</td>\n",
              "      <td>...</td>\n",
              "      <td>...</td>\n",
              "      <td>...</td>\n",
              "      <td>...</td>\n",
              "      <td>...</td>\n",
              "      <td>...</td>\n",
              "      <td>...</td>\n",
              "      <td>...</td>\n",
              "      <td>...</td>\n",
              "    </tr>\n",
              "    <tr>\n",
              "      <th>18177</th>\n",
              "      <td>14/11/2012</td>\n",
              "      <td>C40</td>\n",
              "      <td>7.8</td>\n",
              "      <td>25.8</td>\n",
              "      <td>0.0</td>\n",
              "      <td>8.0</td>\n",
              "      <td>13.2</td>\n",
              "      <td>NE</td>\n",
              "      <td>31.0</td>\n",
              "      <td>ENE</td>\n",
              "      <td>NW</td>\n",
              "      <td>22.0</td>\n",
              "      <td>13.0</td>\n",
              "      <td>59.0</td>\n",
              "      <td>21.0</td>\n",
              "      <td>1017.1</td>\n",
              "      <td>1014.2</td>\n",
              "      <td>6.0</td>\n",
              "      <td>1.0</td>\n",
              "      <td>16.8</td>\n",
              "      <td>24.0</td>\n",
              "      <td>No</td>\n",
              "      <td>No</td>\n",
              "    </tr>\n",
              "    <tr>\n",
              "      <th>18178</th>\n",
              "      <td>24/10/2015</td>\n",
              "      <td>C40</td>\n",
              "      <td>12.4</td>\n",
              "      <td>26.6</td>\n",
              "      <td>0.0</td>\n",
              "      <td>8.0</td>\n",
              "      <td>11.6</td>\n",
              "      <td>NW</td>\n",
              "      <td>37.0</td>\n",
              "      <td>NE</td>\n",
              "      <td>WNW</td>\n",
              "      <td>17.0</td>\n",
              "      <td>20.0</td>\n",
              "      <td>59.0</td>\n",
              "      <td>25.0</td>\n",
              "      <td>1022.2</td>\n",
              "      <td>1018.7</td>\n",
              "      <td>1.0</td>\n",
              "      <td>1.0</td>\n",
              "      <td>17.1</td>\n",
              "      <td>25.7</td>\n",
              "      <td>No</td>\n",
              "      <td>No</td>\n",
              "    </tr>\n",
              "    <tr>\n",
              "      <th>18179</th>\n",
              "      <td>31/08/2010</td>\n",
              "      <td>C21</td>\n",
              "      <td>6.7</td>\n",
              "      <td>22.9</td>\n",
              "      <td>0.0</td>\n",
              "      <td>NaN</td>\n",
              "      <td>NaN</td>\n",
              "      <td>NaN</td>\n",
              "      <td>NaN</td>\n",
              "      <td>NaN</td>\n",
              "      <td>NW</td>\n",
              "      <td>0.0</td>\n",
              "      <td>4.0</td>\n",
              "      <td>84.0</td>\n",
              "      <td>35.0</td>\n",
              "      <td>NaN</td>\n",
              "      <td>NaN</td>\n",
              "      <td>1.0</td>\n",
              "      <td>2.0</td>\n",
              "      <td>11.8</td>\n",
              "      <td>22.0</td>\n",
              "      <td>No</td>\n",
              "      <td>No</td>\n",
              "    </tr>\n",
              "    <tr>\n",
              "      <th>18180</th>\n",
              "      <td>24/08/2013</td>\n",
              "      <td>C12</td>\n",
              "      <td>12.5</td>\n",
              "      <td>26.7</td>\n",
              "      <td>0.0</td>\n",
              "      <td>9.0</td>\n",
              "      <td>10.8</td>\n",
              "      <td>NE</td>\n",
              "      <td>35.0</td>\n",
              "      <td>SW</td>\n",
              "      <td>ENE</td>\n",
              "      <td>2.0</td>\n",
              "      <td>26.0</td>\n",
              "      <td>56.0</td>\n",
              "      <td>45.0</td>\n",
              "      <td>1021.9</td>\n",
              "      <td>1018.1</td>\n",
              "      <td>5.0</td>\n",
              "      <td>5.0</td>\n",
              "      <td>22.9</td>\n",
              "      <td>25.4</td>\n",
              "      <td>No</td>\n",
              "      <td>No</td>\n",
              "    </tr>\n",
              "    <tr>\n",
              "      <th>18181</th>\n",
              "      <td>26/10/2011</td>\n",
              "      <td>C22</td>\n",
              "      <td>12.3</td>\n",
              "      <td>15.9</td>\n",
              "      <td>8.2</td>\n",
              "      <td>NaN</td>\n",
              "      <td>NaN</td>\n",
              "      <td>SE</td>\n",
              "      <td>31.0</td>\n",
              "      <td>SW</td>\n",
              "      <td>SSE</td>\n",
              "      <td>15.0</td>\n",
              "      <td>15.0</td>\n",
              "      <td>87.0</td>\n",
              "      <td>74.0</td>\n",
              "      <td>NaN</td>\n",
              "      <td>NaN</td>\n",
              "      <td>NaN</td>\n",
              "      <td>NaN</td>\n",
              "      <td>13.8</td>\n",
              "      <td>15.4</td>\n",
              "      <td>Yes</td>\n",
              "      <td>Yes</td>\n",
              "    </tr>\n",
              "  </tbody>\n",
              "</table>\n",
              "<p>18182 rows × 23 columns</p>\n",
              "</div>"
            ],
            "text/plain": [
              "          Tanggal KodeLokasi  SuhuMin  ...  Suhu3pm  BersaljuHariIni  BersaljuBesok\n",
              "0      04/11/2010        C39     11.0  ...     23.6               No             No\n",
              "1      26/03/2015        C35     10.0  ...     18.9               No            Yes\n",
              "2      22/03/2016        C18      9.2  ...     26.3               No             No\n",
              "3      09/12/2011        C31     17.7  ...     26.4               No             No\n",
              "4      20/05/2017        C14      2.3  ...      6.0              Yes             No\n",
              "...           ...        ...      ...  ...      ...              ...            ...\n",
              "18177  14/11/2012        C40      7.8  ...     24.0               No             No\n",
              "18178  24/10/2015        C40     12.4  ...     25.7               No             No\n",
              "18179  31/08/2010        C21      6.7  ...     22.0               No             No\n",
              "18180  24/08/2013        C12     12.5  ...     25.4               No             No\n",
              "18181  26/10/2011        C22     12.3  ...     15.4              Yes            Yes\n",
              "\n",
              "[18182 rows x 23 columns]"
            ]
          },
          "metadata": {
            "tags": []
          },
          "execution_count": 17
        }
      ]
    },
    {
      "cell_type": "code",
      "metadata": {
        "colab": {
          "base_uri": "https://localhost:8080/",
          "height": 416
        },
        "id": "IWcSPqNBXNFV",
        "outputId": "c6af7fcf-d191-474e-f076-33f34ed01097"
      },
      "source": [
        "# Melakukan copy dataframe, hanya untuk beberapa atribut yang akan digunakan\n",
        "\n",
        "prepared_datatest = dftest.loc[:,['Kelembaban3pm','Tekanan3pm','Suhu3pm','BersaljuBesok']]\n",
        "pd.set_option('display.max_rows', 20)\n",
        "prepared_datatest"
      ],
      "execution_count": 18,
      "outputs": [
        {
          "output_type": "execute_result",
          "data": {
            "text/html": [
              "<div>\n",
              "<style scoped>\n",
              "    .dataframe tbody tr th:only-of-type {\n",
              "        vertical-align: middle;\n",
              "    }\n",
              "\n",
              "    .dataframe tbody tr th {\n",
              "        vertical-align: top;\n",
              "    }\n",
              "\n",
              "    .dataframe thead th {\n",
              "        text-align: right;\n",
              "    }\n",
              "</style>\n",
              "<table border=\"1\" class=\"dataframe\">\n",
              "  <thead>\n",
              "    <tr style=\"text-align: right;\">\n",
              "      <th></th>\n",
              "      <th>Kelembaban3pm</th>\n",
              "      <th>Tekanan3pm</th>\n",
              "      <th>Suhu3pm</th>\n",
              "      <th>BersaljuBesok</th>\n",
              "    </tr>\n",
              "  </thead>\n",
              "  <tbody>\n",
              "    <tr>\n",
              "      <th>0</th>\n",
              "      <td>56.0</td>\n",
              "      <td>1012.4</td>\n",
              "      <td>23.6</td>\n",
              "      <td>No</td>\n",
              "    </tr>\n",
              "    <tr>\n",
              "      <th>1</th>\n",
              "      <td>32.0</td>\n",
              "      <td>1015.2</td>\n",
              "      <td>18.9</td>\n",
              "      <td>Yes</td>\n",
              "    </tr>\n",
              "    <tr>\n",
              "      <th>2</th>\n",
              "      <td>27.0</td>\n",
              "      <td>1015.7</td>\n",
              "      <td>26.3</td>\n",
              "      <td>No</td>\n",
              "    </tr>\n",
              "    <tr>\n",
              "      <th>3</th>\n",
              "      <td>41.0</td>\n",
              "      <td>1008.6</td>\n",
              "      <td>26.4</td>\n",
              "      <td>No</td>\n",
              "    </tr>\n",
              "    <tr>\n",
              "      <th>4</th>\n",
              "      <td>95.0</td>\n",
              "      <td>NaN</td>\n",
              "      <td>6.0</td>\n",
              "      <td>No</td>\n",
              "    </tr>\n",
              "    <tr>\n",
              "      <th>...</th>\n",
              "      <td>...</td>\n",
              "      <td>...</td>\n",
              "      <td>...</td>\n",
              "      <td>...</td>\n",
              "    </tr>\n",
              "    <tr>\n",
              "      <th>18177</th>\n",
              "      <td>21.0</td>\n",
              "      <td>1014.2</td>\n",
              "      <td>24.0</td>\n",
              "      <td>No</td>\n",
              "    </tr>\n",
              "    <tr>\n",
              "      <th>18178</th>\n",
              "      <td>25.0</td>\n",
              "      <td>1018.7</td>\n",
              "      <td>25.7</td>\n",
              "      <td>No</td>\n",
              "    </tr>\n",
              "    <tr>\n",
              "      <th>18179</th>\n",
              "      <td>35.0</td>\n",
              "      <td>NaN</td>\n",
              "      <td>22.0</td>\n",
              "      <td>No</td>\n",
              "    </tr>\n",
              "    <tr>\n",
              "      <th>18180</th>\n",
              "      <td>45.0</td>\n",
              "      <td>1018.1</td>\n",
              "      <td>25.4</td>\n",
              "      <td>No</td>\n",
              "    </tr>\n",
              "    <tr>\n",
              "      <th>18181</th>\n",
              "      <td>74.0</td>\n",
              "      <td>NaN</td>\n",
              "      <td>15.4</td>\n",
              "      <td>Yes</td>\n",
              "    </tr>\n",
              "  </tbody>\n",
              "</table>\n",
              "<p>18182 rows × 4 columns</p>\n",
              "</div>"
            ],
            "text/plain": [
              "       Kelembaban3pm  Tekanan3pm  Suhu3pm BersaljuBesok\n",
              "0               56.0      1012.4     23.6            No\n",
              "1               32.0      1015.2     18.9           Yes\n",
              "2               27.0      1015.7     26.3            No\n",
              "3               41.0      1008.6     26.4            No\n",
              "4               95.0         NaN      6.0            No\n",
              "...              ...         ...      ...           ...\n",
              "18177           21.0      1014.2     24.0            No\n",
              "18178           25.0      1018.7     25.7            No\n",
              "18179           35.0         NaN     22.0            No\n",
              "18180           45.0      1018.1     25.4            No\n",
              "18181           74.0         NaN     15.4           Yes\n",
              "\n",
              "[18182 rows x 4 columns]"
            ]
          },
          "metadata": {
            "tags": []
          },
          "execution_count": 18
        }
      ]
    },
    {
      "cell_type": "code",
      "metadata": {
        "colab": {
          "base_uri": "https://localhost:8080/",
          "height": 416
        },
        "id": "AD6cPTXcXfiq",
        "outputId": "cec3c5dc-c2c5-471d-e45b-80550a1d81a4"
      },
      "source": [
        "# Menghilangkan missing data dan data yang redundant\n",
        "\n",
        "prepared_datatest = prepared_datatest.dropna()\n",
        "prepared_datatest = prepared_datatest.drop_duplicates(keep='first')\n",
        "prepared_datatest"
      ],
      "execution_count": 19,
      "outputs": [
        {
          "output_type": "execute_result",
          "data": {
            "text/html": [
              "<div>\n",
              "<style scoped>\n",
              "    .dataframe tbody tr th:only-of-type {\n",
              "        vertical-align: middle;\n",
              "    }\n",
              "\n",
              "    .dataframe tbody tr th {\n",
              "        vertical-align: top;\n",
              "    }\n",
              "\n",
              "    .dataframe thead th {\n",
              "        text-align: right;\n",
              "    }\n",
              "</style>\n",
              "<table border=\"1\" class=\"dataframe\">\n",
              "  <thead>\n",
              "    <tr style=\"text-align: right;\">\n",
              "      <th></th>\n",
              "      <th>Kelembaban3pm</th>\n",
              "      <th>Tekanan3pm</th>\n",
              "      <th>Suhu3pm</th>\n",
              "      <th>BersaljuBesok</th>\n",
              "    </tr>\n",
              "  </thead>\n",
              "  <tbody>\n",
              "    <tr>\n",
              "      <th>0</th>\n",
              "      <td>56.0</td>\n",
              "      <td>1012.4</td>\n",
              "      <td>23.6</td>\n",
              "      <td>No</td>\n",
              "    </tr>\n",
              "    <tr>\n",
              "      <th>1</th>\n",
              "      <td>32.0</td>\n",
              "      <td>1015.2</td>\n",
              "      <td>18.9</td>\n",
              "      <td>Yes</td>\n",
              "    </tr>\n",
              "    <tr>\n",
              "      <th>2</th>\n",
              "      <td>27.0</td>\n",
              "      <td>1015.7</td>\n",
              "      <td>26.3</td>\n",
              "      <td>No</td>\n",
              "    </tr>\n",
              "    <tr>\n",
              "      <th>3</th>\n",
              "      <td>41.0</td>\n",
              "      <td>1008.6</td>\n",
              "      <td>26.4</td>\n",
              "      <td>No</td>\n",
              "    </tr>\n",
              "    <tr>\n",
              "      <th>6</th>\n",
              "      <td>62.0</td>\n",
              "      <td>1019.1</td>\n",
              "      <td>12.3</td>\n",
              "      <td>Yes</td>\n",
              "    </tr>\n",
              "    <tr>\n",
              "      <th>...</th>\n",
              "      <td>...</td>\n",
              "      <td>...</td>\n",
              "      <td>...</td>\n",
              "      <td>...</td>\n",
              "    </tr>\n",
              "    <tr>\n",
              "      <th>18175</th>\n",
              "      <td>39.0</td>\n",
              "      <td>1015.4</td>\n",
              "      <td>21.1</td>\n",
              "      <td>No</td>\n",
              "    </tr>\n",
              "    <tr>\n",
              "      <th>18176</th>\n",
              "      <td>55.0</td>\n",
              "      <td>1028.5</td>\n",
              "      <td>18.5</td>\n",
              "      <td>No</td>\n",
              "    </tr>\n",
              "    <tr>\n",
              "      <th>18177</th>\n",
              "      <td>21.0</td>\n",
              "      <td>1014.2</td>\n",
              "      <td>24.0</td>\n",
              "      <td>No</td>\n",
              "    </tr>\n",
              "    <tr>\n",
              "      <th>18178</th>\n",
              "      <td>25.0</td>\n",
              "      <td>1018.7</td>\n",
              "      <td>25.7</td>\n",
              "      <td>No</td>\n",
              "    </tr>\n",
              "    <tr>\n",
              "      <th>18180</th>\n",
              "      <td>45.0</td>\n",
              "      <td>1018.1</td>\n",
              "      <td>25.4</td>\n",
              "      <td>No</td>\n",
              "    </tr>\n",
              "  </tbody>\n",
              "</table>\n",
              "<p>15744 rows × 4 columns</p>\n",
              "</div>"
            ],
            "text/plain": [
              "       Kelembaban3pm  Tekanan3pm  Suhu3pm BersaljuBesok\n",
              "0               56.0      1012.4     23.6            No\n",
              "1               32.0      1015.2     18.9           Yes\n",
              "2               27.0      1015.7     26.3            No\n",
              "3               41.0      1008.6     26.4            No\n",
              "6               62.0      1019.1     12.3           Yes\n",
              "...              ...         ...      ...           ...\n",
              "18175           39.0      1015.4     21.1            No\n",
              "18176           55.0      1028.5     18.5            No\n",
              "18177           21.0      1014.2     24.0            No\n",
              "18178           25.0      1018.7     25.7            No\n",
              "18180           45.0      1018.1     25.4            No\n",
              "\n",
              "[15744 rows x 4 columns]"
            ]
          },
          "metadata": {
            "tags": []
          },
          "execution_count": 19
        }
      ]
    },
    {
      "cell_type": "code",
      "metadata": {
        "id": "n1eKDiHRXjq5"
      },
      "source": [
        "# Menghilangkan Outliers/Kuartil Fitur Sinar Matahari\n",
        "Q1 = prepared_datatest['Kelembaban3pm'].quantile(0.25)\n",
        "Q3 = prepared_datatest['Kelembaban3pm'].quantile(0.75)\n",
        "IQR = Q3 - Q1    \n",
        "\n",
        "filter = (prepared_datatest['Kelembaban3pm'] >= Q1 - 1.5 * IQR) & (prepared_datatest['Kelembaban3pm'] <= Q3 + 1.5 *IQR)\n",
        "prepared_datatest = prepared_datatest.loc[filter] "
      ],
      "execution_count": 20,
      "outputs": []
    },
    {
      "cell_type": "code",
      "metadata": {
        "id": "bke7bOfMXzFa"
      },
      "source": [
        "# Menghilangkan Outliers/Kuartil Fitur SuhuMin\n",
        "Q1 = prepared_datatest['Tekanan3pm'].quantile(0.25)\n",
        "Q3 = prepared_datatest['Tekanan3pm'].quantile(0.75)\n",
        "IQR = Q3 - Q1    \n",
        "\n",
        "filter = (prepared_datatest['Tekanan3pm'] >= Q1 - 1.5 * IQR) & (prepared_datatest['Tekanan3pm'] <= Q3 + 1.5 *IQR)\n",
        "prepared_datatest = prepared_datatest.loc[filter] "
      ],
      "execution_count": 21,
      "outputs": []
    },
    {
      "cell_type": "code",
      "metadata": {
        "id": "YoxNvwRfX6iZ"
      },
      "source": [
        "# Menghilangkan Outliers/Kuartil Fitur SuhuMin\n",
        "Q1 = prepared_datatest['Suhu3pm'].quantile(0.25)\n",
        "Q3 = prepared_datatest['Suhu3pm'].quantile(0.75)\n",
        "IQR = Q3 - Q1    \n",
        "\n",
        "filter = (prepared_datatest['Suhu3pm'] >= Q1 - 1.5 * IQR) & (prepared_datatest['Suhu3pm'] <= Q3 + 1.5 *IQR)\n",
        "prepared_datatest = prepared_datatest.loc[filter] "
      ],
      "execution_count": 22,
      "outputs": []
    },
    {
      "cell_type": "code",
      "metadata": {
        "colab": {
          "base_uri": "https://localhost:8080/"
        },
        "id": "cWpsMEzGnSI4",
        "outputId": "b71bbfd3-3d1d-4526-9b59-4f74f9448253"
      },
      "source": [
        "#Memisahkan Target Kelas\n",
        "labelencoder = preprocessing.LabelEncoder()\n",
        "\n",
        "prepared_datatest['BersaljuBesok'] = labelencoder.fit_transform(prepared_datatest['BersaljuBesok'])\n",
        "\n",
        "prepared_datatest\n",
        "Y_Test = prepared_datatest['BersaljuBesok'].values\n",
        "Y_Test"
      ],
      "execution_count": 23,
      "outputs": [
        {
          "output_type": "execute_result",
          "data": {
            "text/plain": [
              "array([0, 1, 0, ..., 0, 0, 0])"
            ]
          },
          "metadata": {
            "tags": []
          },
          "execution_count": 23
        }
      ]
    },
    {
      "cell_type": "code",
      "metadata": {
        "id": "4aSEZYQA8gu4"
      },
      "source": [
        "prepared_datatest = prepared_datatest.drop(columns=['BersaljuBesok']) "
      ],
      "execution_count": 24,
      "outputs": []
    },
    {
      "cell_type": "code",
      "metadata": {
        "colab": {
          "base_uri": "https://localhost:8080/"
        },
        "id": "znWSalvYYDgP",
        "outputId": "07da7225-1d05-4f52-9489-ffb890889a06"
      },
      "source": [
        "data1 = prepared_datatest\n",
        "scaler = MinMaxScaler()\n",
        "print(scaler.fit(data1))\n",
        "X_Test = scaler.transform(data1)\n",
        "print(X_Test)"
      ],
      "execution_count": 25,
      "outputs": [
        {
          "output_type": "stream",
          "text": [
            "MinMaxScaler(copy=True, feature_range=(0, 1))\n",
            "[[0.55555556 0.42744063 0.52604167]\n",
            " [0.31313131 0.50131926 0.40364583]\n",
            " [0.26262626 0.51451187 0.59635417]\n",
            " ...\n",
            " [0.2020202  0.47493404 0.53645833]\n",
            " [0.24242424 0.59366755 0.58072917]\n",
            " [0.44444444 0.57783641 0.57291667]]\n"
          ],
          "name": "stdout"
        }
      ]
    },
    {
      "cell_type": "markdown",
      "metadata": {
        "id": "I9Wu01x2Wzzo"
      },
      "source": [
        "# **Klasifikasi dengan KNN**"
      ]
    },
    {
      "cell_type": "code",
      "metadata": {
        "colab": {
          "base_uri": "https://localhost:8080/"
        },
        "id": "xr85R7bJswFq",
        "outputId": "29ae2760-a9be-48cb-c3d9-4405d77b918d"
      },
      "source": [
        "# Import KNN Model\n",
        "from sklearn.neighbors import KNeighborsClassifier\n",
        "model = KNeighborsClassifier(n_neighbors=27)\n",
        "# Memasukkan data training pada fungsi klasifikasi KNN \n",
        "model.fit(X_training,Y_Training)\n",
        "# Menentukan hasil prediksi dari x_test\n",
        "y_pred = model.predict(X_Test)\n",
        "y_pred"
      ],
      "execution_count": 26,
      "outputs": [
        {
          "output_type": "execute_result",
          "data": {
            "text/plain": [
              "array([0, 0, 0, ..., 0, 0, 0])"
            ]
          },
          "metadata": {
            "tags": []
          },
          "execution_count": 26
        }
      ]
    },
    {
      "cell_type": "code",
      "metadata": {
        "colab": {
          "base_uri": "https://localhost:8080/"
        },
        "id": "bC51rkwaJlq8",
        "outputId": "a69f24cc-5ff8-4ecf-9442-13dd36ddeaf3"
      },
      "source": [
        "#cek Hasil Kebenaran Prediksi dai Y_test\n",
        "np.array(Y_Test)"
      ],
      "execution_count": 27,
      "outputs": [
        {
          "output_type": "execute_result",
          "data": {
            "text/plain": [
              "array([0, 1, 0, ..., 0, 0, 0])"
            ]
          },
          "metadata": {
            "tags": []
          },
          "execution_count": 27
        }
      ]
    },
    {
      "cell_type": "code",
      "metadata": {
        "colab": {
          "base_uri": "https://localhost:8080/"
        },
        "id": "OVQhkOQDITSW",
        "outputId": "4996a091-b5e4-471a-8517-7a56c86b172a"
      },
      "source": [
        "#Hitung Akurasi Kebenaran Data\n",
        "from sklearn import metrics\n",
        "print('Accuracy :', metrics.accuracy_score(Y_Test,y_pred)*100)"
      ],
      "execution_count": 28,
      "outputs": [
        {
          "output_type": "stream",
          "text": [
            "Accuracy : 81.35070937921294\n"
          ],
          "name": "stdout"
        }
      ]
    },
    {
      "cell_type": "code",
      "metadata": {
        "colab": {
          "base_uri": "https://localhost:8080/"
        },
        "id": "4b8-2kaGIaBO",
        "outputId": "5dc7a7a7-fc10-408f-f22d-21c69eabf443"
      },
      "source": [
        "# import confusion_matrix model\n",
        "from sklearn.metrics import confusion_matrix\n",
        "confusion_matrix(Y_Test, y_pred)"
      ],
      "execution_count": 29,
      "outputs": [
        {
          "output_type": "execute_result",
          "data": {
            "text/plain": [
              "array([[10710,  1428],\n",
              "       [ 1477,  1962]])"
            ]
          },
          "metadata": {
            "tags": []
          },
          "execution_count": 29
        }
      ]
    },
    {
      "cell_type": "code",
      "metadata": {
        "colab": {
          "base_uri": "https://localhost:8080/",
          "height": 141
        },
        "id": "-0GRz3RtIdaA",
        "outputId": "f68c685f-1ee6-4a1b-ace4-bb30c2d6c4c1"
      },
      "source": [
        "# Merapikan hasil confusion matrix\n",
        "y_actual1 = pd.Series(Y_Test, name = 'Aktual')\n",
        "y_pred1 = pd.Series(y_pred, name = 'Prediksi')\n",
        "hasil_confusion1 = pd.crosstab(y_actual1, y_pred1)\n",
        "hasil_confusion1"
      ],
      "execution_count": 30,
      "outputs": [
        {
          "output_type": "execute_result",
          "data": {
            "text/html": [
              "<div>\n",
              "<style scoped>\n",
              "    .dataframe tbody tr th:only-of-type {\n",
              "        vertical-align: middle;\n",
              "    }\n",
              "\n",
              "    .dataframe tbody tr th {\n",
              "        vertical-align: top;\n",
              "    }\n",
              "\n",
              "    .dataframe thead th {\n",
              "        text-align: right;\n",
              "    }\n",
              "</style>\n",
              "<table border=\"1\" class=\"dataframe\">\n",
              "  <thead>\n",
              "    <tr style=\"text-align: right;\">\n",
              "      <th>Prediksi</th>\n",
              "      <th>0</th>\n",
              "      <th>1</th>\n",
              "    </tr>\n",
              "    <tr>\n",
              "      <th>Aktual</th>\n",
              "      <th></th>\n",
              "      <th></th>\n",
              "    </tr>\n",
              "  </thead>\n",
              "  <tbody>\n",
              "    <tr>\n",
              "      <th>0</th>\n",
              "      <td>10710</td>\n",
              "      <td>1428</td>\n",
              "    </tr>\n",
              "    <tr>\n",
              "      <th>1</th>\n",
              "      <td>1477</td>\n",
              "      <td>1962</td>\n",
              "    </tr>\n",
              "  </tbody>\n",
              "</table>\n",
              "</div>"
            ],
            "text/plain": [
              "Prediksi      0     1\n",
              "Aktual               \n",
              "0         10710  1428\n",
              "1          1477  1962"
            ]
          },
          "metadata": {
            "tags": []
          },
          "execution_count": 30
        }
      ]
    },
    {
      "cell_type": "code",
      "metadata": {
        "colab": {
          "base_uri": "https://localhost:8080/"
        },
        "id": "gNs4u0xCIgUl",
        "outputId": "4aeab7c5-30a3-4782-fd36-65fa3b878a42"
      },
      "source": [
        "# Menghitung nilai akurasi dari klasifikasi KNN\n",
        "from sklearn.metrics import classification_report\n",
        "print(classification_report(Y_Test, y_pred))"
      ],
      "execution_count": 31,
      "outputs": [
        {
          "output_type": "stream",
          "text": [
            "              precision    recall  f1-score   support\n",
            "\n",
            "           0       0.88      0.88      0.88     12138\n",
            "           1       0.58      0.57      0.57      3439\n",
            "\n",
            "    accuracy                           0.81     15577\n",
            "   macro avg       0.73      0.73      0.73     15577\n",
            "weighted avg       0.81      0.81      0.81     15577\n",
            "\n"
          ],
          "name": "stdout"
        }
      ]
    },
    {
      "cell_type": "code",
      "metadata": {
        "id": "wr73Qi4WIkhq"
      },
      "source": [
        "# Simpan Prediksi Data KNN \n",
        "y_pred = pd.DataFrame((y_pred),columns=['Hasil Klasifikasi'])\n",
        "y_pred.to_csv('data hasil Klasifikasi KNN.csv')"
      ],
      "execution_count": 32,
      "outputs": []
    },
    {
      "cell_type": "markdown",
      "metadata": {
        "id": "EJKo6WCVIr9d"
      },
      "source": [
        "# **Klasifikasi Dengan Naive Bayes**"
      ]
    },
    {
      "cell_type": "code",
      "metadata": {
        "id": "wCszEfCFIvyc"
      },
      "source": [
        "#Import Gaussian Naive Bayes model\n",
        "from sklearn.naive_bayes import GaussianNB"
      ],
      "execution_count": 33,
      "outputs": []
    },
    {
      "cell_type": "code",
      "metadata": {
        "id": "3ghN4TouIzsx"
      },
      "source": [
        "# Mengaktifkan/memanggil/membuat fungsi klasifikasi Naive bayes\n",
        "gnb = GaussianNB()"
      ],
      "execution_count": 34,
      "outputs": []
    },
    {
      "cell_type": "code",
      "metadata": {
        "colab": {
          "base_uri": "https://localhost:8080/"
        },
        "id": "DLxoeHDOI0fD",
        "outputId": "0b9e4be2-e432-4237-f7da-5f69dd6c3cfc"
      },
      "source": [
        "# Memasukkan data training pada fungsi klasifikasi naive bayes\n",
        "gnb.fit(X_training,Y_Training)"
      ],
      "execution_count": 35,
      "outputs": [
        {
          "output_type": "execute_result",
          "data": {
            "text/plain": [
              "GaussianNB(priors=None, var_smoothing=1e-09)"
            ]
          },
          "metadata": {
            "tags": []
          },
          "execution_count": 35
        }
      ]
    },
    {
      "cell_type": "code",
      "metadata": {
        "colab": {
          "base_uri": "https://localhost:8080/"
        },
        "id": "0T6CquugI2iJ",
        "outputId": "a39a27fc-2fbe-4cf1-e687-0a09faf9c840"
      },
      "source": [
        "# Menentukan hasil prediksi dari x_test\n",
        "y_predd = gnb.predict(X_Test)\n",
        "y_predd"
      ],
      "execution_count": 36,
      "outputs": [
        {
          "output_type": "execute_result",
          "data": {
            "text/plain": [
              "array([0, 0, 0, ..., 0, 0, 0])"
            ]
          },
          "metadata": {
            "tags": []
          },
          "execution_count": 36
        }
      ]
    },
    {
      "cell_type": "code",
      "metadata": {
        "colab": {
          "base_uri": "https://localhost:8080/"
        },
        "id": "i1OL8G4xI4_h",
        "outputId": "22f1676e-2dd2-4590-f475-ccfbc01d4e08"
      },
      "source": [
        "#cek Hasil Kebenaran Prediksi dai Y_test\n",
        "np.array(Y_Test)"
      ],
      "execution_count": 37,
      "outputs": [
        {
          "output_type": "execute_result",
          "data": {
            "text/plain": [
              "array([0, 1, 0, ..., 0, 0, 0])"
            ]
          },
          "metadata": {
            "tags": []
          },
          "execution_count": 37
        }
      ]
    },
    {
      "cell_type": "code",
      "metadata": {
        "colab": {
          "base_uri": "https://localhost:8080/"
        },
        "id": "x_37vYkOI62N",
        "outputId": "00a8b86d-9dba-4b4d-c13f-c345a7031d68"
      },
      "source": [
        "#Akurasi Kebenaran data\n",
        "from sklearn import metrics\n",
        "print('Accuracy :', metrics.accuracy_score(Y_Test,y_predd)*100)"
      ],
      "execution_count": 38,
      "outputs": [
        {
          "output_type": "stream",
          "text": [
            "Accuracy : 81.3828079861334\n"
          ],
          "name": "stdout"
        }
      ]
    },
    {
      "cell_type": "code",
      "metadata": {
        "colab": {
          "base_uri": "https://localhost:8080/"
        },
        "id": "ZbQ08sDAI8ZU",
        "outputId": "d6b242f3-f897-4553-a801-3179283cdab8"
      },
      "source": [
        "model.predict_proba(X_Test)"
      ],
      "execution_count": 39,
      "outputs": [
        {
          "output_type": "execute_result",
          "data": {
            "text/plain": [
              "array([[0.62962963, 0.37037037],\n",
              "       [0.92592593, 0.07407407],\n",
              "       [0.96296296, 0.03703704],\n",
              "       ...,\n",
              "       [0.96296296, 0.03703704],\n",
              "       [0.96296296, 0.03703704],\n",
              "       [0.88888889, 0.11111111]])"
            ]
          },
          "metadata": {
            "tags": []
          },
          "execution_count": 39
        }
      ]
    },
    {
      "cell_type": "code",
      "metadata": {
        "colab": {
          "base_uri": "https://localhost:8080/"
        },
        "id": "Td4KelBcI_fB",
        "outputId": "f0829513-8c8a-458f-e33d-37e9f6d6a15e"
      },
      "source": [
        "# import confusion_matrix model\n",
        "from sklearn.metrics import confusion_matrix\n",
        "confusion_matrix(Y_Test, y_predd)"
      ],
      "execution_count": 40,
      "outputs": [
        {
          "output_type": "execute_result",
          "data": {
            "text/plain": [
              "array([[10567,  1571],\n",
              "       [ 1329,  2110]])"
            ]
          },
          "metadata": {
            "tags": []
          },
          "execution_count": 40
        }
      ]
    },
    {
      "cell_type": "code",
      "metadata": {
        "colab": {
          "base_uri": "https://localhost:8080/",
          "height": 141
        },
        "id": "hy6EUyacJBRc",
        "outputId": "e4fe3f52-307e-40d3-8be0-cb40bc14598f"
      },
      "source": [
        "# Merapikan hasil confusion matrix\n",
        "y_actual1 = pd.Series(Y_Test, name = 'Actual')\n",
        "y_pred1 = pd.Series(y_predd, name = 'prediction')\n",
        "hasil_confusion2 = pd.crosstab(y_actual1, y_pred1)\n",
        "hasil_confusion2"
      ],
      "execution_count": 41,
      "outputs": [
        {
          "output_type": "execute_result",
          "data": {
            "text/html": [
              "<div>\n",
              "<style scoped>\n",
              "    .dataframe tbody tr th:only-of-type {\n",
              "        vertical-align: middle;\n",
              "    }\n",
              "\n",
              "    .dataframe tbody tr th {\n",
              "        vertical-align: top;\n",
              "    }\n",
              "\n",
              "    .dataframe thead th {\n",
              "        text-align: right;\n",
              "    }\n",
              "</style>\n",
              "<table border=\"1\" class=\"dataframe\">\n",
              "  <thead>\n",
              "    <tr style=\"text-align: right;\">\n",
              "      <th>prediction</th>\n",
              "      <th>0</th>\n",
              "      <th>1</th>\n",
              "    </tr>\n",
              "    <tr>\n",
              "      <th>Actual</th>\n",
              "      <th></th>\n",
              "      <th></th>\n",
              "    </tr>\n",
              "  </thead>\n",
              "  <tbody>\n",
              "    <tr>\n",
              "      <th>0</th>\n",
              "      <td>10567</td>\n",
              "      <td>1571</td>\n",
              "    </tr>\n",
              "    <tr>\n",
              "      <th>1</th>\n",
              "      <td>1329</td>\n",
              "      <td>2110</td>\n",
              "    </tr>\n",
              "  </tbody>\n",
              "</table>\n",
              "</div>"
            ],
            "text/plain": [
              "prediction      0     1\n",
              "Actual                 \n",
              "0           10567  1571\n",
              "1            1329  2110"
            ]
          },
          "metadata": {
            "tags": []
          },
          "execution_count": 41
        }
      ]
    },
    {
      "cell_type": "code",
      "metadata": {
        "colab": {
          "base_uri": "https://localhost:8080/"
        },
        "id": "mDuhEUv6JD5t",
        "outputId": "a9214abe-2f4f-40f8-e855-2fc4bef1bfb2"
      },
      "source": [
        "# Menghitung nilai akurasi dari klasifikasi naive bayes \n",
        "from sklearn.metrics import classification_report\n",
        "print(classification_report(Y_Test, y_predd))"
      ],
      "execution_count": 42,
      "outputs": [
        {
          "output_type": "stream",
          "text": [
            "              precision    recall  f1-score   support\n",
            "\n",
            "           0       0.89      0.87      0.88     12138\n",
            "           1       0.57      0.61      0.59      3439\n",
            "\n",
            "    accuracy                           0.81     15577\n",
            "   macro avg       0.73      0.74      0.74     15577\n",
            "weighted avg       0.82      0.81      0.82     15577\n",
            "\n"
          ],
          "name": "stdout"
        }
      ]
    },
    {
      "cell_type": "code",
      "metadata": {
        "id": "cG7lD6APKHXm"
      },
      "source": [
        "#Prediksi Data Naive Bayes\n",
        "y_predd = pd.DataFrame((y_pred),columns=['Hasil Klasifikasi'])\n",
        "y_predd.to_csv('data hasil Klasifikasi Naive Bayes.csv')"
      ],
      "execution_count": 44,
      "outputs": []
    }
  ]
}